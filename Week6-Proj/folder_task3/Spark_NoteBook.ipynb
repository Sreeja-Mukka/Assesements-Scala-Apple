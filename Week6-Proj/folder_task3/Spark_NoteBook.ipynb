{
 "cells": [
  {
   "cell_type": "code",
   "execution_count": 1,
   "id": "4eaffbde-8145-4c67-a2b1-0923a26de8cd",
   "metadata": {
    "execution": {
     "iopub.execute_input": "2024-06-25T05:12:25.683068Z",
     "iopub.status.busy": "2024-06-25T05:12:25.682744Z",
     "iopub.status.idle": "2024-06-25T05:13:04.560419Z",
     "shell.execute_reply": "2024-06-25T05:13:04.559674Z",
     "shell.execute_reply.started": "2024-06-25T05:12:25.683037Z"
    }
   },
   "outputs": [
    {
     "data": {
      "application/vnd.jupyter.widget-view+json": {
       "model_id": "f6e53c0caebc41b99bdc761bb9bb3332",
       "version_major": 2,
       "version_minor": 0
      },
      "text/plain": [
       "VBox()"
      ]
     },
     "metadata": {},
     "output_type": "display_data"
    },
    {
     "name": "stdout",
     "output_type": "stream",
     "text": [
      "Starting Spark application\n"
     ]
    },
    {
     "data": {
      "text/html": [
       "<table>\n",
       "<tbody><tr><th>ID</th><th>YARN Application ID</th><th>Kind</th><th>State</th><th>Spark UI</th><th>Driver log</th><th>User</th><th>Current session?</th></tr><tr><td>3</td><td>application_1719287603738_0004</td><td>spark</td><td>idle</td><td><a target=\"_blank\" href=\"http://ip-172-31-7-41.eu-north-1.compute.internal:20888/proxy/application_1719287603738_0004/\" class=\"emr-proxy-link j-1VVYUANJBY3XT application_1719287603738_0004\" emr-resource=\"j-1VVYUANJBY3XT\n",
       "\" application-id=\"application_1719287603738_0004\">Link</a></td><td><a target=\"_blank\" href=\"http://ip-172-31-14-11.eu-north-1.compute.internal:8042/node/containerlogs/container_1719287603738_0004_01_000001/livy\">Link</a></td><td>None</td><td>✔</td></tr></tbody></table>"
      ],
      "text/plain": [
       "<IPython.core.display.HTML object>"
      ]
     },
     "metadata": {},
     "output_type": "display_data"
    },
    {
     "data": {
      "application/vnd.jupyter.widget-view+json": {
       "model_id": "",
       "version_major": 2,
       "version_minor": 0
      },
      "text/plain": [
       "FloatProgress(value=0.0, bar_style='info', description='Progress:', layout=Layout(height='25px', width='50%'),…"
      ]
     },
     "metadata": {},
     "output_type": "display_data"
    },
    {
     "name": "stdout",
     "output_type": "stream",
     "text": [
      "SparkSession available as 'spark'.\n"
     ]
    },
    {
     "data": {
      "application/vnd.jupyter.widget-view+json": {
       "model_id": "",
       "version_major": 2,
       "version_minor": 0
      },
      "text/plain": [
       "FloatProgress(value=0.0, bar_style='info', description='Progress:', layout=Layout(height='25px', width='50%'),…"
      ]
     },
     "metadata": {},
     "output_type": "display_data"
    },
    {
     "name": "stdout",
     "output_type": "stream",
     "text": [
      "res1: org.apache.spark.sql.SparkSession = org.apache.spark.sql.SparkSession@1debfb62\n"
     ]
    }
   ],
   "source": [
    "spark"
   ]
  },
  {
   "cell_type": "code",
   "execution_count": 54,
   "id": "4d8fca3a-d80f-4088-9941-f855aec27ddf",
   "metadata": {
    "collapsed": true,
    "execution": {
     "iopub.execute_input": "2024-06-25T08:09:06.668257Z",
     "iopub.status.busy": "2024-06-25T08:09:06.668027Z",
     "iopub.status.idle": "2024-06-25T08:09:10.613523Z",
     "shell.execute_reply": "2024-06-25T08:09:10.612544Z",
     "shell.execute_reply.started": "2024-06-25T08:09:06.668231Z"
    },
    "jupyter": {
     "outputs_hidden": true
    },
    "tags": []
   },
   "outputs": [
    {
     "data": {
      "application/vnd.jupyter.widget-view+json": {
       "model_id": "4338dc1002f349b5b0c3f9ad9761b1be",
       "version_major": 2,
       "version_minor": 0
      },
      "text/plain": [
       "VBox()"
      ]
     },
     "metadata": {},
     "output_type": "display_data"
    },
    {
     "data": {
      "application/vnd.jupyter.widget-view+json": {
       "model_id": "5d756cef735f466685c3665deb36f02b",
       "version_major": 2,
       "version_minor": 0
      },
      "text/plain": [
       "FloatProgress(value=0.0, bar_style='info', description='Progress:', layout=Layout(height='25px', width='50%'),…"
      ]
     },
     "metadata": {},
     "output_type": "display_data"
    },
    {
     "name": "stderr",
     "output_type": "stream",
     "text": [
      "Interrupted by user\n"
     ]
    }
   ],
   "source": [
    "val df_csvFrame = spark.read.option(\"header\",true).option(\"inferSchema\",true).csv(\"s3://scala-akka-bucket/Task3/*.csv\")\n",
    "//Reading the csv files from the S3 Bucket"
   ]
  },
  {
   "cell_type": "code",
   "execution_count": 4,
   "id": "5dc90a3a-fc00-44f4-b8eb-d1b8be5b6013",
   "metadata": {
    "execution": {
     "iopub.execute_input": "2024-06-25T05:17:27.934106Z",
     "iopub.status.busy": "2024-06-25T05:17:27.933856Z",
     "iopub.status.idle": "2024-06-25T05:19:41.549596Z",
     "shell.execute_reply": "2024-06-25T05:19:41.548912Z",
     "shell.execute_reply.started": "2024-06-25T05:17:27.934079Z"
    },
    "tags": []
   },
   "outputs": [
    {
     "data": {
      "application/vnd.jupyter.widget-view+json": {
       "model_id": "34aa56fc6d7144188888c09f40f54ef2",
       "version_major": 2,
       "version_minor": 0
      },
      "text/plain": [
       "VBox()"
      ]
     },
     "metadata": {},
     "output_type": "display_data"
    },
    {
     "data": {
      "application/vnd.jupyter.widget-view+json": {
       "model_id": "",
       "version_major": 2,
       "version_minor": 0
      },
      "text/plain": [
       "FloatProgress(value=0.0, bar_style='info', description='Progress:', layout=Layout(height='25px', width='50%'),…"
      ]
     },
     "metadata": {},
     "output_type": "display_data"
    }
   ],
   "source": [
    "df_csvFrame.write.mode(\"overwrite\").parquet(\"s3://scala-akka-bucket/Task3_output\")\n",
    "//writing the "
   ]
  },
  {
   "cell_type": "code",
   "execution_count": 5,
   "id": "7196ef30-1970-4dbf-8381-1c17b0dfa9ad",
   "metadata": {
    "execution": {
     "iopub.execute_input": "2024-06-25T05:25:19.295208Z",
     "iopub.status.busy": "2024-06-25T05:25:19.294986Z",
     "iopub.status.idle": "2024-06-25T05:25:26.572799Z",
     "shell.execute_reply": "2024-06-25T05:25:26.572021Z",
     "shell.execute_reply.started": "2024-06-25T05:25:19.295184Z"
    },
    "tags": []
   },
   "outputs": [
    {
     "data": {
      "application/vnd.jupyter.widget-view+json": {
       "model_id": "931fd7a385ae4751ba858694752e5026",
       "version_major": 2,
       "version_minor": 0
      },
      "text/plain": [
       "VBox()"
      ]
     },
     "metadata": {},
     "output_type": "display_data"
    },
    {
     "data": {
      "application/vnd.jupyter.widget-view+json": {
       "model_id": "",
       "version_major": 2,
       "version_minor": 0
      },
      "text/plain": [
       "FloatProgress(value=0.0, bar_style='info', description='Progress:', layout=Layout(height='25px', width='50%'),…"
      ]
     },
     "metadata": {},
     "output_type": "display_data"
    },
    {
     "name": "stdout",
     "output_type": "stream",
     "text": [
      "df_parquet: org.apache.spark.sql.DataFrame = [From Date: string, To Date: string ... 23 more fields]\n"
     ]
    }
   ],
   "source": [
    "val df_parquet = spark.read.option(\"header\",true).option(\"inferSchema\", true).parquet(\"s3://scala-akka-bucket/Task3_output/\")"
   ]
  },
  {
   "cell_type": "code",
   "execution_count": 6,
   "id": "f01e513e-a8ed-477e-b961-732a5496b85b",
   "metadata": {
    "collapsed": true,
    "execution": {
     "iopub.execute_input": "2024-06-25T05:25:42.304316Z",
     "iopub.status.busy": "2024-06-25T05:25:42.304090Z",
     "iopub.status.idle": "2024-06-25T05:25:45.574714Z",
     "shell.execute_reply": "2024-06-25T05:25:45.574002Z",
     "shell.execute_reply.started": "2024-06-25T05:25:42.304292Z"
    },
    "jupyter": {
     "outputs_hidden": true
    },
    "tags": []
   },
   "outputs": [
    {
     "data": {
      "application/vnd.jupyter.widget-view+json": {
       "model_id": "c6e5946291ec49cca0202f6a2b0f75d5",
       "version_major": 2,
       "version_minor": 0
      },
      "text/plain": [
       "VBox()"
      ]
     },
     "metadata": {},
     "output_type": "display_data"
    },
    {
     "data": {
      "application/vnd.jupyter.widget-view+json": {
       "model_id": "",
       "version_major": 2,
       "version_minor": 0
      },
      "text/plain": [
       "FloatProgress(value=0.0, bar_style='info', description='Progress:', layout=Layout(height='25px', width='50%'),…"
      ]
     },
     "metadata": {},
     "output_type": "display_data"
    },
    {
     "name": "stdout",
     "output_type": "stream",
     "text": [
      "+-------------------+-------------------+-------------+------------+----------+-----------+---------+-----------+-----------+----------+-------------+---------------+---------------+-------------------+-----------------+----------------+---------------+------+--------+--------+----------+---------+---------+--------------+-------------+\n",
      "|          From Date|            To Date|PM2.5 (ug/m3)|PM10 (ug/m3)|NO (ug/m3)|NO2 (ug/m3)|NOx (ppb)|NH3 (ug/m3)|SO2 (ug/m3)|CO (mg/m3)|Ozone (ug/m3)|Benzene (ug/m3)|Toluene (ug/m3)|Eth-Benzene (ug/m3)|MP-Xylene (ug/m3)|O Xylene (ug/m3)|Temp (degree C)|RH (%)|WS (m/s)|WD (deg)|SR (W/mt2)|BP (mmHg)|VWS (m/s)|Xylene (ug/m3)|AT (degree C)|\n",
      "+-------------------+-------------------+-------------+------------+----------+-----------+---------+-----------+-----------+----------+-------------+---------------+---------------+-------------------+-----------------+----------------+---------------+------+--------+--------+----------+---------+---------+--------------+-------------+\n",
      "|2010-11-01 00:00:00|2010-11-01 01:00:00|         NULL|        NULL|       3.9|      56.31|    30.38|       NULL|      10.72|      NULL|         6.18|           NULL|           NULL|               NULL|             0.32|            0.24|          19.49| 57.49|    0.75|  206.51|    322.93|    995.1|     0.75|          NULL|         NULL|\n",
      "|2010-11-01 01:00:00|2010-11-01 02:00:00|         NULL|        NULL|      1.96|      49.81|    25.75|       NULL|       7.95|      NULL|         7.35|           NULL|           NULL|               NULL|             0.23|            0.23|          18.72| 56.72|    0.57|  205.22|     322.9|   994.54|     0.57|          NULL|         NULL|\n",
      "|2010-11-01 02:00:00|2010-11-01 03:00:00|         NULL|        NULL|      1.97|      49.07|    25.41|       NULL|      13.82|      NULL|          7.0|           NULL|           NULL|               NULL|             0.24|            NULL|          18.28| 56.28|    0.89|  216.82|    322.85|   994.22|     0.89|          NULL|         NULL|\n",
      "|2010-11-01 03:00:00|2010-11-01 04:00:00|         NULL|        NULL|       5.0|      53.76|    29.95|       NULL|      21.16|      NULL|         5.63|           NULL|           NULL|               NULL|             0.22|            NULL|          17.71| 55.71|    0.61|  225.22|    322.85|   994.13|     0.61|          NULL|         NULL|\n",
      "|2010-11-01 04:00:00|2010-11-01 05:00:00|         NULL|        NULL|     11.58|      53.59|    34.79|       NULL|       2.82|      NULL|         5.79|           NULL|            0.1|               NULL|             0.25|             0.2|          17.26| 55.25|    0.49|  238.36|    322.87|   994.03|     0.49|          NULL|         NULL|\n",
      "|2010-11-01 05:00:00|2010-11-01 06:00:00|         NULL|        NULL|       5.9|      45.34|    26.52|       NULL|       NULL|      NULL|         9.22|           0.48|           2.36|               0.18|             0.34|            0.13|          17.35| 55.35|    0.62|  227.82|    322.85|   994.38|     0.62|          NULL|         NULL|\n",
      "|2010-11-01 06:00:00|2010-11-01 07:00:00|         NULL|        NULL|       3.3|      45.94|    24.88|       NULL|       3.01|      NULL|          6.4|           NULL|           NULL|               NULL|             0.25|            0.13|          16.84| 54.84|    0.26|  231.31|    334.43|   995.09|     0.26|          NULL|         NULL|\n",
      "|2010-11-01 07:00:00|2010-11-01 08:00:00|         NULL|        NULL|      3.77|      50.61|    47.48|       NULL|       15.1|      NULL|         6.49|           NULL|           NULL|               NULL|             0.34|            NULL|          18.36| 56.36|    0.48|  124.14|    397.72|   995.91|     0.48|          NULL|         NULL|\n",
      "|2010-11-01 08:00:00|2010-11-01 09:00:00|         NULL|        NULL|      2.47|      55.36|    45.47|       NULL|       5.71|      NULL|         5.62|           0.98|           2.72|               0.36|             0.65|            0.61|          21.11| 59.11|    0.79|  222.21|    545.47|   996.18|     0.79|          NULL|         NULL|\n",
      "|2010-11-01 09:00:00|2010-11-01 10:00:00|         NULL|        NULL|      2.66|      48.68|     26.3|       NULL|       7.67|      NULL|        13.36|           1.09|           2.64|               0.33|             0.65|            0.42|           23.2|  61.2|    0.95|  242.49|    593.46|   996.53|     0.95|          NULL|         NULL|\n",
      "|2010-11-01 10:00:00|2010-11-01 11:00:00|         NULL|        NULL|      0.44|      34.83|    17.32|       NULL|      20.85|      NULL|        27.68|           NULL|           NULL|               NULL|             0.26|            NULL|          25.07| 63.06|    1.03|  226.72|     761.9|   996.64|     1.03|          NULL|         NULL|\n",
      "|2010-11-01 11:00:00|2010-11-01 12:00:00|         NULL|        NULL|      1.26|      40.94|    24.64|       NULL|      37.11|      NULL|         30.8|           NULL|           NULL|               NULL|             0.57|            NULL|          25.96| 63.96|    1.31|  234.79|    780.89|   995.83|     1.31|          NULL|         NULL|\n",
      "|2010-11-01 12:00:00|2010-11-01 13:00:00|         NULL|        NULL|      0.29|      35.12|    17.35|       NULL|      26.98|      NULL|        35.09|           NULL|           NULL|               NULL|             0.54|            NULL|          26.31| 64.31|    1.39|  192.49|    561.54|   994.45|     1.39|          NULL|         NULL|\n",
      "|2010-11-01 13:00:00|2010-11-01 14:00:00|         NULL|        NULL|      0.37|      30.28|    15.05|       NULL|       1.75|      NULL|        41.19|           0.28|           4.04|               0.31|             0.45|            0.19|          26.95| 64.95|    1.07|  250.34|    442.86|   993.32|     1.07|          NULL|         NULL|\n",
      "|2010-11-01 14:00:00|2010-11-01 15:00:00|         NULL|        NULL|      0.26|      28.35|    14.03|       NULL|       3.84|      NULL|        45.35|           0.21|           3.11|               0.24|             0.38|            0.32|          27.31| 65.31|    1.24|  186.55|    437.54|    992.6|     1.24|          NULL|         NULL|\n",
      "|2010-11-01 15:00:00|2010-11-01 16:00:00|         NULL|        NULL|       0.2|      32.17|    15.84|       NULL|      15.93|      NULL|        42.02|           NULL|           NULL|               NULL|              0.3|            NULL|          26.86| 64.86|    1.22|  223.73|    427.57|   992.18|     1.22|          NULL|         NULL|\n",
      "|2010-11-01 16:00:00|2010-11-01 17:00:00|         NULL|        NULL|      0.47|      43.71|    21.67|       NULL|       1.24|      NULL|        31.21|           NULL|           NULL|               NULL|             0.42|            NULL|          26.41| 64.41|    0.62|  190.61|    378.01|   992.11|     0.62|          NULL|         NULL|\n",
      "|2010-11-01 17:00:00|2010-11-01 18:00:00|         NULL|        NULL|      5.34|      59.31|    35.77|       NULL|       NULL|      NULL|         14.7|           0.78|          10.75|               0.89|             1.66|            0.84|          24.51| 62.51|    0.52|  203.72|    326.06|   992.19|     0.52|          NULL|         NULL|\n",
      "|2010-11-01 18:00:00|2010-11-01 19:00:00|         NULL|        NULL|      3.46|      75.68|    62.77|       NULL|       1.45|      NULL|          6.7|           0.17|           NULL|               NULL|             1.19|            0.51|          23.05| 61.05|    0.26|  215.55|    322.99|   992.79|     0.26|          NULL|         NULL|\n",
      "|2010-11-01 19:00:00|2010-11-01 20:00:00|         NULL|        NULL|      3.63|      77.18|    64.71|       NULL|       3.62|      NULL|         6.57|           0.32|           NULL|               NULL|              1.8|            0.17|          22.33| 60.33|    0.27|  179.45|    322.99|   993.48|     0.27|          NULL|         NULL|\n",
      "+-------------------+-------------------+-------------+------------+----------+-----------+---------+-----------+-----------+----------+-------------+---------------+---------------+-------------------+-----------------+----------------+---------------+------+--------+--------+----------+---------+---------+--------------+-------------+\n",
      "only showing top 20 rows\n",
      "\n"
     ]
    }
   ],
   "source": [
    "df_parquet.show()"
   ]
  },
  {
   "cell_type": "code",
   "execution_count": 7,
   "id": "aa80a714-1f23-485c-9fc7-62490656b9bc",
   "metadata": {
    "execution": {
     "iopub.execute_input": "2024-06-25T05:27:51.794804Z",
     "iopub.status.busy": "2024-06-25T05:27:51.794581Z",
     "iopub.status.idle": "2024-06-25T05:27:52.551482Z",
     "shell.execute_reply": "2024-06-25T05:27:52.550730Z",
     "shell.execute_reply.started": "2024-06-25T05:27:51.794780Z"
    }
   },
   "outputs": [
    {
     "data": {
      "application/vnd.jupyter.widget-view+json": {
       "model_id": "0cc16553a75d45a19fec04cffb5e9429",
       "version_major": 2,
       "version_minor": 0
      },
      "text/plain": [
       "VBox()"
      ]
     },
     "metadata": {},
     "output_type": "display_data"
    },
    {
     "data": {
      "application/vnd.jupyter.widget-view+json": {
       "model_id": "",
       "version_major": 2,
       "version_minor": 0
      },
      "text/plain": [
       "FloatProgress(value=0.0, bar_style='info', description='Progress:', layout=Layout(height='25px', width='50%'),…"
      ]
     },
     "metadata": {},
     "output_type": "display_data"
    },
    {
     "name": "stdout",
     "output_type": "stream",
     "text": [
      "temp_df: org.apache.spark.sql.DataFrame = [Temp (degree C): string, count(1): bigint]\n"
     ]
    }
   ],
   "source": [
    "val temp_df = df_parquet.groupBy(\"Temp (degree C)\").agg(count(\"*\"))"
   ]
  },
  {
   "cell_type": "code",
   "execution_count": 8,
   "id": "3fa7df47-9344-4121-b685-865ac050fcc1",
   "metadata": {
    "collapsed": true,
    "execution": {
     "iopub.execute_input": "2024-06-25T05:28:00.950392Z",
     "iopub.status.busy": "2024-06-25T05:28:00.950168Z",
     "iopub.status.idle": "2024-06-25T05:28:12.241466Z",
     "shell.execute_reply": "2024-06-25T05:28:12.240767Z",
     "shell.execute_reply.started": "2024-06-25T05:28:00.950366Z"
    },
    "jupyter": {
     "outputs_hidden": true,
     "source_hidden": true
    },
    "tags": []
   },
   "outputs": [
    {
     "data": {
      "application/vnd.jupyter.widget-view+json": {
       "model_id": "6435ebb886e14260936628f1bbfe91df",
       "version_major": 2,
       "version_minor": 0
      },
      "text/plain": [
       "VBox()"
      ]
     },
     "metadata": {},
     "output_type": "display_data"
    },
    {
     "data": {
      "application/vnd.jupyter.widget-view+json": {
       "model_id": "",
       "version_major": 2,
       "version_minor": 0
      },
      "text/plain": [
       "FloatProgress(value=0.0, bar_style='info', description='Progress:', layout=Layout(height='25px', width='50%'),…"
      ]
     },
     "metadata": {},
     "output_type": "display_data"
    },
    {
     "name": "stdout",
     "output_type": "stream",
     "text": [
      "+---------------+--------+\n",
      "|Temp (degree C)|count(1)|\n",
      "+---------------+--------+\n",
      "|           NULL| 5139769|\n",
      "|          19.06|     378|\n",
      "|          13.87|     262|\n",
      "|          26.63|     888|\n",
      "|          34.63|     461|\n",
      "|          17.42|     417|\n",
      "|          42.87|     185|\n",
      "|         506.25|       8|\n",
      "|         199.86|       7|\n",
      "|         708.33|      49|\n",
      "|         663.65|       3|\n",
      "|         336.48|      41|\n",
      "|          545.2|       2|\n",
      "|          556.5|      11|\n",
      "|         590.88|       1|\n",
      "|         694.14|       1|\n",
      "|          605.7|       1|\n",
      "|         669.26|       1|\n",
      "|          118.5|     550|\n",
      "|          480.5|      10|\n",
      "+---------------+--------+\n",
      "only showing top 20 rows\n",
      "\n"
     ]
    }
   ],
   "source": [
    "temp_df.show()"
   ]
  },
  {
   "cell_type": "code",
   "execution_count": 9,
   "id": "2edb072a-cef9-46a2-888c-5253e68a7610",
   "metadata": {
    "execution": {
     "iopub.execute_input": "2024-06-25T05:30:18.913311Z",
     "iopub.status.busy": "2024-06-25T05:30:18.913087Z",
     "iopub.status.idle": "2024-06-25T05:30:19.663663Z",
     "shell.execute_reply": "2024-06-25T05:30:19.662958Z",
     "shell.execute_reply.started": "2024-06-25T05:30:18.913287Z"
    }
   },
   "outputs": [
    {
     "data": {
      "application/vnd.jupyter.widget-view+json": {
       "model_id": "2cdb116d00f34a82ae97de90825b02eb",
       "version_major": 2,
       "version_minor": 0
      },
      "text/plain": [
       "VBox()"
      ]
     },
     "metadata": {},
     "output_type": "display_data"
    },
    {
     "data": {
      "application/vnd.jupyter.widget-view+json": {
       "model_id": "",
       "version_major": 2,
       "version_minor": 0
      },
      "text/plain": [
       "FloatProgress(value=0.0, bar_style='info', description='Progress:', layout=Layout(height='25px', width='50%'),…"
      ]
     },
     "metadata": {},
     "output_type": "display_data"
    },
    {
     "name": "stdout",
     "output_type": "stream",
     "text": [
      "temp_df: org.apache.spark.sql.DataFrame = [Temp (degree C): string, max_WD: string]\n"
     ]
    }
   ],
   "source": [
    "val temp_df = df_parquet.groupBy(\"Temp (degree C)\").agg(max(\"WD (deg)\").alias(\"max_WD\"))"
   ]
  },
  {
   "cell_type": "code",
   "execution_count": 10,
   "id": "83af657a-4500-4a7f-b6f7-062045fbf14b",
   "metadata": {
    "collapsed": true,
    "execution": {
     "iopub.execute_input": "2024-06-25T05:30:26.320399Z",
     "iopub.status.busy": "2024-06-25T05:30:26.320162Z",
     "iopub.status.idle": "2024-06-25T05:30:43.625263Z",
     "shell.execute_reply": "2024-06-25T05:30:43.624640Z",
     "shell.execute_reply.started": "2024-06-25T05:30:26.320374Z"
    },
    "jupyter": {
     "outputs_hidden": true
    },
    "tags": []
   },
   "outputs": [
    {
     "data": {
      "application/vnd.jupyter.widget-view+json": {
       "model_id": "68587abf7dca4dc4a1f9c887928d6766",
       "version_major": 2,
       "version_minor": 0
      },
      "text/plain": [
       "VBox()"
      ]
     },
     "metadata": {},
     "output_type": "display_data"
    },
    {
     "data": {
      "application/vnd.jupyter.widget-view+json": {
       "model_id": "",
       "version_major": 2,
       "version_minor": 0
      },
      "text/plain": [
       "FloatProgress(value=0.0, bar_style='info', description='Progress:', layout=Layout(height='25px', width='50%'),…"
      ]
     },
     "metadata": {},
     "output_type": "display_data"
    },
    {
     "name": "stdout",
     "output_type": "stream",
     "text": [
      "+---------------+------+\n",
      "|Temp (degree C)|max_WD|\n",
      "+---------------+------+\n",
      "|           NULL|999.99|\n",
      "|           -0.1|   9.4|\n",
      "|          -0.12|   8.9|\n",
      "|          -0.26|   2.0|\n",
      "|          -0.31|  3.35|\n",
      "|          -0.32|  0.75|\n",
      "|          -0.57|  2.17|\n",
      "|          -0.61|   2.3|\n",
      "|          -0.67|   2.5|\n",
      "|          -0.68|  11.5|\n",
      "|          -0.72|  9.53|\n",
      "|          -0.74|  5.68|\n",
      "|          -0.79|  9.35|\n",
      "|          -0.82|  9.88|\n",
      "|          -0.87|   9.3|\n",
      "|           -0.9|  8.43|\n",
      "|           -1.0|   9.8|\n",
      "|          -1.06|   2.8|\n",
      "|          -1.12|  9.28|\n",
      "|           -1.2|   2.3|\n",
      "+---------------+------+\n",
      "only showing top 20 rows\n",
      "\n"
     ]
    }
   ],
   "source": [
    "temp_df.show()"
   ]
  },
  {
   "cell_type": "code",
   "execution_count": 11,
   "id": "71664329-79d6-49ff-8938-c420dad8484a",
   "metadata": {
    "execution": {
     "iopub.execute_input": "2024-06-25T05:56:07.119352Z",
     "iopub.status.busy": "2024-06-25T05:56:07.119127Z",
     "iopub.status.idle": "2024-06-25T05:56:07.870186Z",
     "shell.execute_reply": "2024-06-25T05:56:07.869344Z",
     "shell.execute_reply.started": "2024-06-25T05:56:07.119328Z"
    }
   },
   "outputs": [
    {
     "data": {
      "application/vnd.jupyter.widget-view+json": {
       "model_id": "67df7a73320b484eba21669a3e5c7b8a",
       "version_major": 2,
       "version_minor": 0
      },
      "text/plain": [
       "VBox()"
      ]
     },
     "metadata": {},
     "output_type": "display_data"
    },
    {
     "data": {
      "application/vnd.jupyter.widget-view+json": {
       "model_id": "",
       "version_major": 2,
       "version_minor": 0
      },
      "text/plain": [
       "FloatProgress(value=0.0, bar_style='info', description='Progress:', layout=Layout(height='25px', width='50%'),…"
      ]
     },
     "metadata": {},
     "output_type": "display_data"
    },
    {
     "name": "stdout",
     "output_type": "stream",
     "text": [
      "max_co3: org.apache.spark.sql.Dataset[org.apache.spark.sql.Row] = [From Date: string, To Date: string ... 23 more fields]\n"
     ]
    }
   ],
   "source": [
    "val max_co3 = df_parquet.filter(col(\"O Xylene (ug/m3)\") > 10)"
   ]
  },
  {
   "cell_type": "code",
   "execution_count": 12,
   "id": "c7c2a55f-a25a-4afe-b7ac-38fa1db42558",
   "metadata": {
    "collapsed": true,
    "execution": {
     "iopub.execute_input": "2024-06-25T05:56:15.996905Z",
     "iopub.status.busy": "2024-06-25T05:56:15.996678Z",
     "iopub.status.idle": "2024-06-25T05:56:25.283464Z",
     "shell.execute_reply": "2024-06-25T05:56:25.282742Z",
     "shell.execute_reply.started": "2024-06-25T05:56:15.996879Z"
    },
    "jupyter": {
     "outputs_hidden": true
    },
    "tags": []
   },
   "outputs": [
    {
     "data": {
      "application/vnd.jupyter.widget-view+json": {
       "model_id": "64d21ccdf12743d7bbc640f733f2c2f7",
       "version_major": 2,
       "version_minor": 0
      },
      "text/plain": [
       "VBox()"
      ]
     },
     "metadata": {},
     "output_type": "display_data"
    },
    {
     "data": {
      "application/vnd.jupyter.widget-view+json": {
       "model_id": "",
       "version_major": 2,
       "version_minor": 0
      },
      "text/plain": [
       "FloatProgress(value=0.0, bar_style='info', description='Progress:', layout=Layout(height='25px', width='50%'),…"
      ]
     },
     "metadata": {},
     "output_type": "display_data"
    },
    {
     "name": "stdout",
     "output_type": "stream",
     "text": [
      "+-------------------+-------------------+-------------+------------+----------+-----------+---------+-----------+-----------+----------+-------------+---------------+---------------+-------------------+-----------------+----------------+---------------+------+--------+--------+----------+---------+---------+--------------+-------------+\n",
      "|          From Date|            To Date|PM2.5 (ug/m3)|PM10 (ug/m3)|NO (ug/m3)|NO2 (ug/m3)|NOx (ppb)|NH3 (ug/m3)|SO2 (ug/m3)|CO (mg/m3)|Ozone (ug/m3)|Benzene (ug/m3)|Toluene (ug/m3)|Eth-Benzene (ug/m3)|MP-Xylene (ug/m3)|O Xylene (ug/m3)|Temp (degree C)|RH (%)|WS (m/s)|WD (deg)|SR (W/mt2)|BP (mmHg)|VWS (m/s)|Xylene (ug/m3)|AT (degree C)|\n",
      "+-------------------+-------------------+-------------+------------+----------+-----------+---------+-----------+-----------+----------+-------------+---------------+---------------+-------------------+-----------------+----------------+---------------+------+--------+--------+----------+---------+---------+--------------+-------------+\n",
      "|2010-11-13 08:00:00|2010-11-13 09:00:00|         NULL|        NULL|      NULL|     228.13|     NULL|       NULL|       6.38|      0.01|         73.8|           7.22|         115.57|               7.22|             0.72|           14.45|           21.0|  59.0|    0.83|  166.76|    493.27|    993.8|     0.83|          NULL|         NULL|\n",
      "|2015-08-22 13:00:00|2015-08-22 14:00:00|        41.78|        NULL|      3.15|       6.94|     2.21|       NULL|       3.25|      1.28|         NULL|           NULL|           NULL|               NULL|             NULL|           27.37|           NULL|  1.07|    NULL|    0.22|    221.98|     NULL|     NULL|          NULL|         NULL|\n",
      "|2015-08-22 14:00:00|2015-08-22 15:00:00|        53.76|        NULL|      3.14|       7.24|     2.21|       NULL|       2.76|      1.83|         NULL|           NULL|           NULL|               NULL|             NULL|           27.69|           NULL|  1.07|    NULL|    0.22|     223.0|     NULL|     NULL|          NULL|         NULL|\n",
      "|2015-08-22 15:00:00|2015-08-22 16:00:00|        65.45|        NULL|      2.99|       6.72|     2.21|       NULL|       7.17|      1.77|         NULL|           NULL|           NULL|               NULL|             NULL|            27.9|           NULL|  1.07|    NULL|    0.22|    223.67|     NULL|     NULL|          NULL|         NULL|\n",
      "|2015-08-22 16:00:00|2015-08-22 17:00:00|        61.14|        NULL|      3.17|       9.29|     2.21|       NULL|       5.57|      1.35|         NULL|           NULL|           NULL|               NULL|             NULL|           28.21|           NULL|  1.07|    NULL|    0.22|    224.66|     NULL|     NULL|          NULL|         NULL|\n",
      "|2015-08-22 17:00:00|2015-08-22 18:00:00|        39.12|        NULL|      3.04|       9.63|     2.21|       NULL|       5.12|      1.15|         NULL|           NULL|           NULL|               NULL|             NULL|           28.12|           NULL|  1.07|    NULL|    0.22|    224.38|     NULL|     NULL|          NULL|         NULL|\n",
      "|2015-08-22 18:00:00|2015-08-22 19:00:00|        50.81|        NULL|      2.84|      10.25|     2.21|       NULL|        4.9|      NULL|         NULL|           NULL|           NULL|               NULL|             NULL|           26.97|           NULL|  1.06|    NULL|    0.22|    220.69|     NULL|     NULL|          NULL|         NULL|\n",
      "|2015-08-22 19:00:00|2015-08-22 20:00:00|        56.27|        NULL|      3.52|      10.59|     2.21|       NULL|       3.85|      1.13|         NULL|           NULL|           NULL|               NULL|             NULL|            25.8|           NULL|  1.06|    NULL|    0.21|    216.96|     NULL|     NULL|          NULL|         NULL|\n",
      "|2015-08-22 20:00:00|2015-08-22 21:00:00|        69.23|        NULL|      3.69|      11.03|     2.21|       NULL|       2.94|      1.08|         NULL|           NULL|           NULL|               NULL|             NULL|           25.88|           NULL|  1.06|    NULL|    0.22|    217.21|     NULL|     NULL|          NULL|         NULL|\n",
      "|2015-08-22 22:00:00|2015-08-22 23:00:00|        36.41|        NULL|      3.18|       9.88|     2.21|       NULL|       7.32|      1.39|         NULL|           NULL|           NULL|               NULL|             NULL|           25.52|           NULL|  1.06|    NULL|    0.21|    216.05|     NULL|     NULL|          NULL|         NULL|\n",
      "|2015-08-22 23:00:00|2015-08-23 00:00:00|        24.53|        NULL|      2.98|       9.02|     2.21|       NULL|       7.66|      1.36|         NULL|           NULL|           NULL|               NULL|             NULL|           25.23|           NULL|  1.06|    NULL|    0.21|    215.12|     NULL|     NULL|          NULL|         NULL|\n",
      "|2015-08-23 00:00:00|2015-08-23 01:00:00|         42.7|        NULL|      2.81|      10.34|     2.21|       NULL|       5.59|      1.43|         NULL|           NULL|           NULL|               NULL|             NULL|           25.29|           NULL|  1.06|    NULL|    0.21|    215.34|     NULL|     NULL|          NULL|         NULL|\n",
      "|2015-08-23 01:00:00|2015-08-23 02:00:00|        27.33|        NULL|      3.29|      10.21|     2.21|       NULL|       4.29|      1.36|         NULL|           NULL|           NULL|               NULL|             NULL|           25.47|           NULL|  1.06|    NULL|    0.21|    215.92|     NULL|     NULL|          NULL|         NULL|\n",
      "|2015-08-23 02:00:00|2015-08-23 03:00:00|        23.94|        NULL|      3.21|       8.89|     2.21|       NULL|       4.81|      1.34|         NULL|           NULL|           NULL|               NULL|             NULL|           25.36|           NULL|  1.06|    NULL|    0.21|    215.55|     NULL|     NULL|          NULL|         NULL|\n",
      "|2015-08-23 03:00:00|2015-08-23 04:00:00|        56.03|        NULL|      3.12|       8.12|     2.21|       NULL|       4.98|       1.2|         NULL|           NULL|           NULL|               NULL|             NULL|           24.76|           NULL|  1.05|    NULL|    0.21|    213.62|     NULL|     NULL|          NULL|         NULL|\n",
      "|2015-08-23 04:00:00|2015-08-23 05:00:00|         64.8|        NULL|      3.38|       7.38|     2.21|       NULL|       2.97|      1.32|         NULL|           NULL|           NULL|               NULL|             NULL|           24.88|           NULL|  1.05|    NULL|    0.21|     214.0|     NULL|     NULL|          NULL|         NULL|\n",
      "|2015-08-23 05:00:00|2015-08-23 06:00:00|        68.02|        NULL|      2.67|       7.35|     2.21|       NULL|       1.97|      NULL|         NULL|           NULL|           NULL|               NULL|             NULL|            24.8|           NULL|  1.05|    NULL|    0.21|    213.74|     NULL|     NULL|          NULL|         NULL|\n",
      "|2015-08-23 06:00:00|2015-08-23 07:00:00|        44.22|        NULL|      3.07|        7.8|     2.21|       NULL|       0.92|      NULL|         NULL|           NULL|           NULL|               NULL|             NULL|           24.86|           NULL|  1.05|    NULL|    0.21|    213.96|     NULL|     NULL|          NULL|         NULL|\n",
      "|2015-08-23 07:00:00|2015-08-23 08:00:00|        58.98|        NULL|      3.24|       6.86|     2.21|       NULL|       0.65|      NULL|         NULL|           NULL|           NULL|               NULL|             NULL|           25.04|           NULL|  1.05|    NULL|    0.21|    214.53|     NULL|     NULL|          NULL|         NULL|\n",
      "|2015-08-23 08:00:00|2015-08-23 09:00:00|        63.62|        NULL|      2.92|       6.42|     2.21|       NULL|       1.56|      NULL|         NULL|           NULL|           NULL|               NULL|             NULL|           25.65|           NULL|  1.06|    NULL|    0.21|    216.48|     NULL|     NULL|          NULL|         NULL|\n",
      "+-------------------+-------------------+-------------+------------+----------+-----------+---------+-----------+-----------+----------+-------------+---------------+---------------+-------------------+-----------------+----------------+---------------+------+--------+--------+----------+---------+---------+--------------+-------------+\n",
      "only showing top 20 rows\n",
      "\n"
     ]
    }
   ],
   "source": [
    "max_co3.show()"
   ]
  },
  {
   "cell_type": "code",
   "execution_count": 14,
   "id": "798b949d-9e59-4815-9c6d-fe8caaf170aa",
   "metadata": {
    "execution": {
     "iopub.execute_input": "2024-06-25T05:59:10.380051Z",
     "iopub.status.busy": "2024-06-25T05:59:10.379828Z",
     "iopub.status.idle": "2024-06-25T05:59:11.132365Z",
     "shell.execute_reply": "2024-06-25T05:59:11.131563Z",
     "shell.execute_reply.started": "2024-06-25T05:59:10.380027Z"
    },
    "tags": []
   },
   "outputs": [
    {
     "data": {
      "application/vnd.jupyter.widget-view+json": {
       "model_id": "6b45830a78d749bcba592bb39b411988",
       "version_major": 2,
       "version_minor": 0
      },
      "text/plain": [
       "VBox()"
      ]
     },
     "metadata": {},
     "output_type": "display_data"
    },
    {
     "data": {
      "application/vnd.jupyter.widget-view+json": {
       "model_id": "",
       "version_major": 2,
       "version_minor": 0
      },
      "text/plain": [
       "FloatProgress(value=0.0, bar_style='info', description='Progress:', layout=Layout(height='25px', width='50%'),…"
      ]
     },
     "metadata": {},
     "output_type": "display_data"
    },
    {
     "name": "stdout",
     "output_type": "stream",
     "text": [
      "min_no2: org.apache.spark.sql.DataFrame = [min_NO2: string]\n"
     ]
    }
   ],
   "source": [
    "val min_no2 = df_parquet.select(col(\"NO2 (ug/m3)\").alias(\"min_NO2\"))"
   ]
  },
  {
   "cell_type": "code",
   "execution_count": 15,
   "id": "610e399a-487e-4a2c-bced-262a34090a32",
   "metadata": {
    "collapsed": true,
    "execution": {
     "iopub.execute_input": "2024-06-25T05:59:17.892716Z",
     "iopub.status.busy": "2024-06-25T05:59:17.892492Z",
     "iopub.status.idle": "2024-06-25T05:59:27.172148Z",
     "shell.execute_reply": "2024-06-25T05:59:27.171267Z",
     "shell.execute_reply.started": "2024-06-25T05:59:17.892692Z"
    },
    "jupyter": {
     "outputs_hidden": true
    },
    "tags": []
   },
   "outputs": [
    {
     "data": {
      "application/vnd.jupyter.widget-view+json": {
       "model_id": "a0d6219639d149cebe37430014f27bbc",
       "version_major": 2,
       "version_minor": 0
      },
      "text/plain": [
       "VBox()"
      ]
     },
     "metadata": {},
     "output_type": "display_data"
    },
    {
     "data": {
      "application/vnd.jupyter.widget-view+json": {
       "model_id": "",
       "version_major": 2,
       "version_minor": 0
      },
      "text/plain": [
       "FloatProgress(value=0.0, bar_style='info', description='Progress:', layout=Layout(height='25px', width='50%'),…"
      ]
     },
     "metadata": {},
     "output_type": "display_data"
    },
    {
     "name": "stdout",
     "output_type": "stream",
     "text": [
      "+-------+\n",
      "|min_NO2|\n",
      "+-------+\n",
      "|  56.31|\n",
      "|  49.81|\n",
      "|  49.07|\n",
      "|  53.76|\n",
      "|  53.59|\n",
      "|  45.34|\n",
      "|  45.94|\n",
      "|  50.61|\n",
      "|  55.36|\n",
      "|  48.68|\n",
      "|  34.83|\n",
      "|  40.94|\n",
      "|  35.12|\n",
      "|  30.28|\n",
      "|  28.35|\n",
      "|  32.17|\n",
      "|  43.71|\n",
      "|  59.31|\n",
      "|  75.68|\n",
      "|  77.18|\n",
      "+-------+\n",
      "only showing top 20 rows\n",
      "\n"
     ]
    }
   ],
   "source": [
    "min_no2.show()"
   ]
  },
  {
   "cell_type": "code",
   "execution_count": 18,
   "id": "b09ed77c-6040-4b6c-89e5-b84665384403",
   "metadata": {
    "execution": {
     "iopub.execute_input": "2024-06-25T06:04:39.513842Z",
     "iopub.status.busy": "2024-06-25T06:04:39.513598Z",
     "iopub.status.idle": "2024-06-25T06:04:39.756576Z",
     "shell.execute_reply": "2024-06-25T06:04:39.755872Z",
     "shell.execute_reply.started": "2024-06-25T06:04:39.513792Z"
    },
    "tags": []
   },
   "outputs": [
    {
     "data": {
      "application/vnd.jupyter.widget-view+json": {
       "model_id": "c16ddabead434c1a88c6e11a68df1194",
       "version_major": 2,
       "version_minor": 0
      },
      "text/plain": [
       "VBox()"
      ]
     },
     "metadata": {},
     "output_type": "display_data"
    },
    {
     "data": {
      "application/vnd.jupyter.widget-view+json": {
       "model_id": "",
       "version_major": 2,
       "version_minor": 0
      },
      "text/plain": [
       "FloatProgress(value=0.0, bar_style='info', description='Progress:', layout=Layout(height='25px', width='50%'),…"
      ]
     },
     "metadata": {},
     "output_type": "display_data"
    },
    {
     "name": "stdout",
     "output_type": "stream",
     "text": [
      "filter_date: org.apache.spark.sql.Dataset[org.apache.spark.sql.Row] = [From Date: string, To Date: string ... 23 more fields]\n"
     ]
    }
   ],
   "source": [
    "val filter_date = df_parquet.filter(col(\"From Date\") > \"2010-01-06 07:00:00\" && col(\"To Date\") < \"2010-01-07 17:00:00\")"
   ]
  },
  {
   "cell_type": "code",
   "execution_count": 19,
   "id": "4f018ac3-1d26-4054-9fa1-9c9736e7ecf6",
   "metadata": {
    "collapsed": true,
    "execution": {
     "iopub.execute_input": "2024-06-25T06:04:48.682898Z",
     "iopub.status.busy": "2024-06-25T06:04:48.682664Z",
     "iopub.status.idle": "2024-06-25T06:04:57.963350Z",
     "shell.execute_reply": "2024-06-25T06:04:57.962433Z",
     "shell.execute_reply.started": "2024-06-25T06:04:48.682872Z"
    },
    "jupyter": {
     "outputs_hidden": true
    },
    "tags": []
   },
   "outputs": [
    {
     "data": {
      "application/vnd.jupyter.widget-view+json": {
       "model_id": "042d3bf8edd241d28d3b962e898f6975",
       "version_major": 2,
       "version_minor": 0
      },
      "text/plain": [
       "VBox()"
      ]
     },
     "metadata": {},
     "output_type": "display_data"
    },
    {
     "data": {
      "application/vnd.jupyter.widget-view+json": {
       "model_id": "",
       "version_major": 2,
       "version_minor": 0
      },
      "text/plain": [
       "FloatProgress(value=0.0, bar_style='info', description='Progress:', layout=Layout(height='25px', width='50%'),…"
      ]
     },
     "metadata": {},
     "output_type": "display_data"
    },
    {
     "name": "stdout",
     "output_type": "stream",
     "text": [
      "+-------------------+-------------------+-------------+------------+----------+-----------+---------+-----------+-----------+----------+-------------+---------------+---------------+-------------------+-----------------+----------------+---------------+------+--------+--------+----------+---------+---------+--------------+-------------+\n",
      "|          From Date|            To Date|PM2.5 (ug/m3)|PM10 (ug/m3)|NO (ug/m3)|NO2 (ug/m3)|NOx (ppb)|NH3 (ug/m3)|SO2 (ug/m3)|CO (mg/m3)|Ozone (ug/m3)|Benzene (ug/m3)|Toluene (ug/m3)|Eth-Benzene (ug/m3)|MP-Xylene (ug/m3)|O Xylene (ug/m3)|Temp (degree C)|RH (%)|WS (m/s)|WD (deg)|SR (W/mt2)|BP (mmHg)|VWS (m/s)|Xylene (ug/m3)|AT (degree C)|\n",
      "+-------------------+-------------------+-------------+------------+----------+-----------+---------+-----------+-----------+----------+-------------+---------------+---------------+-------------------+-----------------+----------------+---------------+------+--------+--------+----------+---------+---------+--------------+-------------+\n",
      "|2010-01-06 08:00:00|2010-01-06 09:00:00|         NULL|        NULL|     17.25|      69.84|    87.09|       NULL|       10.6|      1.42|         6.53|           NULL|           NULL|               NULL|             NULL|            NULL|          25.94| 90.55|     0.9|   241.2|    246.82|  1007.92|     0.55|          NULL|         NULL|\n",
      "|2010-01-06 09:00:00|2010-01-06 10:00:00|         NULL|        NULL|     11.08|       62.6|    73.68|       NULL|      18.69|      0.66|        19.01|           NULL|           NULL|               NULL|             NULL|            NULL|          27.92|  78.1|    1.38|  156.89|    361.98|  1008.07|     0.59|          NULL|         NULL|\n",
      "|2010-01-06 10:00:00|2010-01-06 11:00:00|         NULL|        NULL|      6.92|      36.07|    42.99|       NULL|      10.41|      0.29|        27.71|           NULL|           NULL|               NULL|             NULL|            NULL|          28.93| 69.82|    1.91|  103.09|    291.78|  1007.79|     0.65|          NULL|         NULL|\n",
      "|2010-01-06 11:00:00|2010-01-06 12:00:00|         NULL|        NULL|      4.77|      22.75|    27.53|       NULL|       5.95|      0.16|        33.81|           NULL|           NULL|               NULL|             NULL|            NULL|          29.17| 69.12|    1.95|   80.99|    306.53|  1007.21|     0.62|          NULL|         NULL|\n",
      "|2010-01-06 12:00:00|2010-01-06 13:00:00|         NULL|        NULL|      6.98|      39.01|     46.0|       NULL|        4.6|      0.64|        29.23|           NULL|           NULL|               NULL|             NULL|            NULL|          29.87|  61.1|    2.23|   97.07|    718.03|  1006.07|     0.65|          NULL|         NULL|\n",
      "|2010-01-06 13:00:00|2010-01-06 14:00:00|         NULL|        NULL|     10.43|      55.82|    66.25|       NULL|        5.7|      0.81|        22.26|           NULL|           NULL|               NULL|             NULL|            NULL|          30.33| 56.66|    2.09|   89.11|    692.76|  1004.77|     0.63|          NULL|         NULL|\n",
      "|2010-01-06 14:00:00|2010-01-06 15:00:00|         NULL|        NULL|     14.87|      68.05|    82.92|       NULL|       8.24|      1.32|        20.49|           NULL|           NULL|               NULL|             NULL|            NULL|           30.3| 56.04|    2.17|   80.72|    588.78|  1003.97|     0.62|          NULL|         NULL|\n",
      "|2010-01-06 15:00:00|2010-01-06 16:00:00|         NULL|        NULL|     10.72|      61.62|    72.34|       NULL|      13.93|      1.44|        19.54|           NULL|           NULL|               NULL|             NULL|            NULL|          30.03| 58.43|    1.97|   94.98|    389.95|  1003.88|     0.62|          NULL|         NULL|\n",
      "|2010-01-06 16:00:00|2010-01-06 17:00:00|         NULL|        NULL|     10.25|      62.08|    72.34|       NULL|      22.51|       0.9|        16.92|           NULL|           NULL|               NULL|             NULL|            NULL|           29.5| 63.98|    1.82|  106.19|    196.53|  1004.25|     0.62|          NULL|         NULL|\n",
      "|2010-01-06 17:00:00|2010-01-06 18:00:00|         NULL|        NULL|      8.14|      47.09|    55.24|       NULL|      11.82|      1.31|        21.01|           NULL|           NULL|               NULL|             NULL|            NULL|          28.61| 69.45|    1.69|  125.68|     38.52|  1004.86|     0.63|          NULL|         NULL|\n",
      "|2010-01-06 18:00:00|2010-01-06 19:00:00|         NULL|        NULL|      7.68|      44.62|    52.31|       NULL|       6.49|      1.27|        20.82|           NULL|           NULL|               NULL|             NULL|            NULL|          27.77| 76.42|    1.67|  145.81|      3.08|  1005.26|     0.62|          NULL|         NULL|\n",
      "|2010-01-06 19:00:00|2010-01-06 20:00:00|         NULL|        NULL|      8.22|      48.92|    57.14|       NULL|        5.0|      0.99|        18.99|           NULL|           NULL|               NULL|             NULL|            NULL|           27.4| 78.81|    1.72|  143.07|      2.88|  1005.84|     0.62|          NULL|         NULL|\n",
      "|2010-01-06 20:00:00|2010-01-06 21:00:00|         NULL|        NULL|     11.83|      60.93|    72.76|       NULL|       5.31|      2.66|         15.0|           NULL|           NULL|               NULL|             NULL|            NULL|          27.26| 79.32|    1.46|  138.18|      2.91|  1006.56|      0.6|          NULL|         NULL|\n",
      "|2010-01-06 21:00:00|2010-01-06 22:00:00|         NULL|        NULL|     39.21|     116.52|   155.73|       NULL|      17.27|      3.14|         6.69|           NULL|           NULL|               NULL|             NULL|            NULL|          27.19| 79.44|    1.21|  183.95|      2.98|  1006.92|     0.58|          NULL|         NULL|\n",
      "|2010-01-06 22:00:00|2010-01-06 23:00:00|         NULL|        NULL|     57.86|     151.62|   209.48|       NULL|      27.59|      2.94|         3.46|           NULL|           NULL|               NULL|             NULL|            NULL|           27.0| 81.37|    0.92|  238.57|      2.95|  1006.76|     0.57|          NULL|         NULL|\n",
      "|2010-01-06 23:00:00|2010-01-07 00:00:00|         NULL|        NULL|     30.59|       89.9|    120.5|       NULL|      17.86|      1.58|          9.6|           NULL|           NULL|               NULL|             NULL|            NULL|          26.52| 86.35|    0.76|   103.1|      2.95|  1006.49|     0.55|          NULL|         NULL|\n",
      "|2010-01-07 00:00:00|2010-01-07 01:00:00|         NULL|        NULL|     17.04|      53.59|    70.63|       NULL|       4.84|      1.36|         9.45|           NULL|           NULL|               NULL|             NULL|            NULL|          26.28| 90.62|    0.59|  189.14|      2.96|  1006.01|     0.55|          NULL|         NULL|\n",
      "|2010-01-07 01:00:00|2010-01-07 02:00:00|         NULL|        NULL|     20.26|      71.99|    92.25|       NULL|       6.64|      1.62|         4.01|           NULL|           NULL|               NULL|             NULL|            NULL|          26.13| 90.55|    0.62|  237.98|      2.96|  1005.41|     0.55|          NULL|         NULL|\n",
      "|2010-01-07 02:00:00|2010-01-07 03:00:00|         NULL|        NULL|     22.66|      53.06|    75.72|       NULL|        6.9|      0.93|        20.79|           NULL|           NULL|               NULL|             NULL|            NULL|          27.26| 81.39|    1.32|   75.88|      2.77|  1004.93|     0.57|          NULL|         NULL|\n",
      "|2010-01-07 03:00:00|2010-01-07 04:00:00|         NULL|        NULL|       7.6|      20.73|    28.32|       NULL|       1.91|      0.42|        28.59|           NULL|           NULL|               NULL|             NULL|            NULL|           27.3| 78.24|    1.35|   73.83|      2.95|  1004.93|     0.58|          NULL|         NULL|\n",
      "+-------------------+-------------------+-------------+------------+----------+-----------+---------+-----------+-----------+----------+-------------+---------------+---------------+-------------------+-----------------+----------------+---------------+------+--------+--------+----------+---------+---------+--------------+-------------+\n",
      "only showing top 20 rows\n",
      "\n"
     ]
    }
   ],
   "source": [
    "filter_date.show()"
   ]
  },
  {
   "cell_type": "code",
   "execution_count": 22,
   "id": "2db575f8-0e20-4b77-b94a-9a0e01ed2a1f",
   "metadata": {
    "collapsed": true,
    "execution": {
     "iopub.execute_input": "2024-06-25T06:16:44.840419Z",
     "iopub.status.busy": "2024-06-25T06:16:44.840199Z",
     "iopub.status.idle": "2024-06-25T06:17:02.134275Z",
     "shell.execute_reply": "2024-06-25T06:17:02.133582Z",
     "shell.execute_reply.started": "2024-06-25T06:16:44.840395Z"
    },
    "jupyter": {
     "outputs_hidden": true
    },
    "tags": []
   },
   "outputs": [
    {
     "data": {
      "application/vnd.jupyter.widget-view+json": {
       "model_id": "3c39172140704d34a8bc75cafaaa0b34",
       "version_major": 2,
       "version_minor": 0
      },
      "text/plain": [
       "VBox()"
      ]
     },
     "metadata": {},
     "output_type": "display_data"
    },
    {
     "data": {
      "application/vnd.jupyter.widget-view+json": {
       "model_id": "",
       "version_major": 2,
       "version_minor": 0
      },
      "text/plain": [
       "FloatProgress(value=0.0, bar_style='info', description='Progress:', layout=Layout(height='25px', width='50%'),…"
      ]
     },
     "metadata": {},
     "output_type": "display_data"
    }
   ],
   "source": [
    "filter_date.write.format(\"jdbc\").options(\n",
    "Map(\n",
    "\"url\" -> myqlUrl,\n",
    "\"user\" -> mysqlUser,\n",
    "\"password\" -> mysqlPassword,\n",
    "\"dbtable\" -> \"date_filter\"\n",
    ")).mode(\"append\").save()"
   ]
  },
  {
   "cell_type": "code",
   "execution_count": 24,
   "id": "1d22092e-387e-4028-b957-5699bff700f2",
   "metadata": {
    "collapsed": true,
    "execution": {
     "iopub.execute_input": "2024-06-25T06:30:06.569770Z",
     "iopub.status.busy": "2024-06-25T06:30:06.569546Z",
     "iopub.status.idle": "2024-06-25T06:32:11.032748Z",
     "shell.execute_reply": "2024-06-25T06:32:11.031690Z",
     "shell.execute_reply.started": "2024-06-25T06:30:06.569746Z"
    },
    "jupyter": {
     "outputs_hidden": true
    },
    "tags": []
   },
   "outputs": [
    {
     "data": {
      "application/vnd.jupyter.widget-view+json": {
       "model_id": "6f3c2a7d1d054d17ad5bca1b23a1ef7b",
       "version_major": 2,
       "version_minor": 0
      },
      "text/plain": [
       "VBox()"
      ]
     },
     "metadata": {},
     "output_type": "display_data"
    },
    {
     "data": {
      "application/vnd.jupyter.widget-view+json": {
       "model_id": "389759dfc63f437ea92357ae549a612e",
       "version_major": 2,
       "version_minor": 0
      },
      "text/plain": [
       "FloatProgress(value=0.0, bar_style='info', description='Progress:', layout=Layout(height='25px', width='50%'),…"
      ]
     },
     "metadata": {},
     "output_type": "display_data"
    },
    {
     "name": "stderr",
     "output_type": "stream",
     "text": [
      "Interrupted by user\n"
     ]
    }
   ],
   "source": [
    "min_no2.write.format(\"jdbc\").options(\n",
    "Map(\n",
    "\"url\" -> myqlUrl,\n",
    "\"user\" -> mysqlUser,\n",
    "\"password\" -> mysqlPassword,\n",
    "\"dbtable\" -> \"min_no2_table\"\n",
    ")).mode(\"append\").save()"
   ]
  },
  {
   "cell_type": "code",
   "execution_count": 25,
   "id": "4504cd85-4b74-415b-a1fd-ca9924896be4",
   "metadata": {
    "execution": {
     "iopub.execute_input": "2024-06-25T06:33:40.688574Z",
     "iopub.status.busy": "2024-06-25T06:33:40.688262Z",
     "iopub.status.idle": "2024-06-25T06:33:40.939329Z",
     "shell.execute_reply": "2024-06-25T06:33:40.938517Z",
     "shell.execute_reply.started": "2024-06-25T06:33:40.688535Z"
    }
   },
   "outputs": [
    {
     "data": {
      "application/vnd.jupyter.widget-view+json": {
       "model_id": "aaf3369cf32f40188562084752a5e07c",
       "version_major": 2,
       "version_minor": 0
      },
      "text/plain": [
       "VBox()"
      ]
     },
     "metadata": {},
     "output_type": "display_data"
    },
    {
     "data": {
      "application/vnd.jupyter.widget-view+json": {
       "model_id": "",
       "version_major": 2,
       "version_minor": 0
      },
      "text/plain": [
       "FloatProgress(value=0.0, bar_style='info', description='Progress:', layout=Layout(height='25px', width='50%'),…"
      ]
     },
     "metadata": {},
     "output_type": "display_data"
    },
    {
     "name": "stdout",
     "output_type": "stream",
     "text": [
      "max_NOx: org.apache.spark.sql.DataFrame = [From Date: string, max_NOX_col: string]\n"
     ]
    }
   ],
   "source": [
    "val max_NOx = df_parquet.groupBy(\"From Date\").agg(max(\"NOx (ppb)\").alias(\"max_NOX_col\"))"
   ]
  },
  {
   "cell_type": "code",
   "execution_count": 27,
   "id": "db776de2-a723-4b20-aa7f-79a4aa117c98",
   "metadata": {
    "collapsed": true,
    "execution": {
     "iopub.execute_input": "2024-06-25T06:34:25.104107Z",
     "iopub.status.busy": "2024-06-25T06:34:25.103848Z",
     "iopub.status.idle": "2024-06-25T06:34:44.408302Z",
     "shell.execute_reply": "2024-06-25T06:34:44.407640Z",
     "shell.execute_reply.started": "2024-06-25T06:34:25.104079Z"
    },
    "jupyter": {
     "outputs_hidden": true
    },
    "tags": []
   },
   "outputs": [
    {
     "data": {
      "application/vnd.jupyter.widget-view+json": {
       "model_id": "03259ccab33d4a43805b38a2fa741935",
       "version_major": 2,
       "version_minor": 0
      },
      "text/plain": [
       "VBox()"
      ]
     },
     "metadata": {},
     "output_type": "display_data"
    },
    {
     "data": {
      "application/vnd.jupyter.widget-view+json": {
       "model_id": "",
       "version_major": 2,
       "version_minor": 0
      },
      "text/plain": [
       "FloatProgress(value=0.0, bar_style='info', description='Progress:', layout=Layout(height='25px', width='50%'),…"
      ]
     },
     "metadata": {},
     "output_type": "display_data"
    },
    {
     "name": "stdout",
     "output_type": "stream",
     "text": [
      "+-------------------+-----------+\n",
      "|          From Date|max_NOX_col|\n",
      "+-------------------+-----------+\n",
      "|2010-01-01 20:00:00|      69.25|\n",
      "|2010-01-05 05:00:00|       99.7|\n",
      "|2010-01-05 06:00:00|       91.1|\n",
      "|2010-01-07 02:00:00|      94.25|\n",
      "|2010-01-07 22:00:00|       87.5|\n",
      "|2010-01-08 03:00:00|      82.22|\n",
      "|2010-01-11 05:00:00|        9.0|\n",
      "|2010-01-11 15:00:00|      88.21|\n",
      "|2010-01-16 20:00:00|      74.35|\n",
      "|2010-01-18 07:00:00|       9.99|\n",
      "|2010-01-19 01:00:00|       9.75|\n",
      "|2010-01-19 10:00:00|      43.49|\n",
      "|2010-01-20 05:00:00|      94.91|\n",
      "|2010-01-20 06:00:00|      42.78|\n",
      "|2010-01-22 18:00:00|      99.25|\n",
      "|2010-01-23 07:00:00|      95.19|\n",
      "|2010-01-24 00:00:00|      56.75|\n",
      "|2010-01-25 05:00:00|      55.25|\n",
      "|2010-01-25 16:00:00|       9.22|\n",
      "|2010-01-25 21:00:00|      71.75|\n",
      "+-------------------+-----------+\n",
      "only showing top 20 rows\n",
      "\n"
     ]
    }
   ],
   "source": [
    "max_NOx.show()"
   ]
  },
  {
   "cell_type": "code",
   "execution_count": 28,
   "id": "39623e86-8147-4e08-8b5a-0692d61f3c4e",
   "metadata": {
    "collapsed": true,
    "execution": {
     "iopub.execute_input": "2024-06-25T06:35:18.555644Z",
     "iopub.status.busy": "2024-06-25T06:35:18.555346Z",
     "iopub.status.idle": "2024-06-25T06:37:22.138323Z",
     "shell.execute_reply": "2024-06-25T06:37:22.137649Z",
     "shell.execute_reply.started": "2024-06-25T06:35:18.555584Z"
    },
    "jupyter": {
     "outputs_hidden": true
    },
    "tags": []
   },
   "outputs": [
    {
     "data": {
      "application/vnd.jupyter.widget-view+json": {
       "model_id": "03510a4a7f0b4476863dc255265b234a",
       "version_major": 2,
       "version_minor": 0
      },
      "text/plain": [
       "VBox()"
      ]
     },
     "metadata": {},
     "output_type": "display_data"
    },
    {
     "data": {
      "application/vnd.jupyter.widget-view+json": {
       "model_id": "",
       "version_major": 2,
       "version_minor": 0
      },
      "text/plain": [
       "FloatProgress(value=0.0, bar_style='info', description='Progress:', layout=Layout(height='25px', width='50%'),…"
      ]
     },
     "metadata": {},
     "output_type": "display_data"
    }
   ],
   "source": [
    "max_NOx.write.format(\"jdbc\").options(\n",
    "Map(\n",
    "\"url\" -> myqlUrl,\n",
    "\"user\" -> mysqlUser,\n",
    "\"password\" -> mysqlPassword,\n",
    "\"dbtable\" -> \"max_NOx_table\"\n",
    ")).mode(\"append\").save()"
   ]
  },
  {
   "cell_type": "code",
   "execution_count": 29,
   "id": "918a0ad0-6fe8-482d-9e68-c53b643e680f",
   "metadata": {
    "collapsed": true,
    "execution": {
     "iopub.execute_input": "2024-06-25T06:43:53.160596Z",
     "iopub.status.busy": "2024-06-25T06:43:53.160374Z",
     "iopub.status.idle": "2024-06-25T06:43:53.403674Z",
     "shell.execute_reply": "2024-06-25T06:43:53.402917Z",
     "shell.execute_reply.started": "2024-06-25T06:43:53.160572Z"
    },
    "jupyter": {
     "outputs_hidden": true
    },
    "tags": []
   },
   "outputs": [
    {
     "data": {
      "application/vnd.jupyter.widget-view+json": {
       "model_id": "57de1066ebd04d72ae1f694b6a4b963b",
       "version_major": 2,
       "version_minor": 0
      },
      "text/plain": [
       "VBox()"
      ]
     },
     "metadata": {},
     "output_type": "display_data"
    },
    {
     "data": {
      "application/vnd.jupyter.widget-view+json": {
       "model_id": "",
       "version_major": 2,
       "version_minor": 0
      },
      "text/plain": [
       "FloatProgress(value=0.0, bar_style='info', description='Progress:', layout=Layout(height='25px', width='50%'),…"
      ]
     },
     "metadata": {},
     "output_type": "display_data"
    },
    {
     "name": "stdout",
     "output_type": "stream",
     "text": [
      "root\n",
      " |-- From Date: string (nullable = true)\n",
      " |-- To Date: string (nullable = true)\n",
      " |-- PM2.5 (ug/m3): string (nullable = true)\n",
      " |-- PM10 (ug/m3): string (nullable = true)\n",
      " |-- NO (ug/m3): string (nullable = true)\n",
      " |-- NO2 (ug/m3): string (nullable = true)\n",
      " |-- NOx (ppb): string (nullable = true)\n",
      " |-- NH3 (ug/m3): string (nullable = true)\n",
      " |-- SO2 (ug/m3): string (nullable = true)\n",
      " |-- CO (mg/m3): string (nullable = true)\n",
      " |-- Ozone (ug/m3): string (nullable = true)\n",
      " |-- Benzene (ug/m3): string (nullable = true)\n",
      " |-- Toluene (ug/m3): string (nullable = true)\n",
      " |-- Eth-Benzene (ug/m3): string (nullable = true)\n",
      " |-- MP-Xylene (ug/m3): string (nullable = true)\n",
      " |-- O Xylene (ug/m3): string (nullable = true)\n",
      " |-- Temp (degree C): string (nullable = true)\n",
      " |-- RH (%): string (nullable = true)\n",
      " |-- WS (m/s): string (nullable = true)\n",
      " |-- WD (deg): string (nullable = true)\n",
      " |-- SR (W/mt2): string (nullable = true)\n",
      " |-- BP (mmHg): string (nullable = true)\n",
      " |-- VWS (m/s): string (nullable = true)\n",
      " |-- Xylene (ug/m3): string (nullable = true)\n",
      " |-- AT (degree C): string (nullable = true)\n",
      "\n"
     ]
    }
   ],
   "source": [
    "df_parquet.printSchema()"
   ]
  },
  {
   "cell_type": "code",
   "execution_count": 30,
   "id": "4313add4-e326-40c0-8b8b-0fdb9b935cfc",
   "metadata": {
    "collapsed": true,
    "execution": {
     "iopub.execute_input": "2024-06-25T06:45:49.081013Z",
     "iopub.status.busy": "2024-06-25T06:45:49.080780Z",
     "iopub.status.idle": "2024-06-25T06:52:36.959763Z",
     "shell.execute_reply": "2024-06-25T06:52:36.958845Z",
     "shell.execute_reply.started": "2024-06-25T06:45:49.080987Z"
    },
    "jupyter": {
     "outputs_hidden": true
    },
    "tags": []
   },
   "outputs": [
    {
     "data": {
      "application/vnd.jupyter.widget-view+json": {
       "model_id": "0345ec06ccad4e9583c2a9865bc6035a",
       "version_major": 2,
       "version_minor": 0
      },
      "text/plain": [
       "VBox()"
      ]
     },
     "metadata": {},
     "output_type": "display_data"
    },
    {
     "data": {
      "application/vnd.jupyter.widget-view+json": {
       "model_id": "e93b882484e044eea3d91370bb305b81",
       "version_major": 2,
       "version_minor": 0
      },
      "text/plain": [
       "FloatProgress(value=0.0, bar_style='info', description='Progress:', layout=Layout(height='25px', width='50%'),…"
      ]
     },
     "metadata": {},
     "output_type": "display_data"
    },
    {
     "name": "stderr",
     "output_type": "stream",
     "text": [
      "Interrupted by user\n"
     ]
    }
   ],
   "source": [
    "max_co3.write.format(\"jdbc\").options(\n",
    "Map(\n",
    "\"url\" -> myqlUrl,\n",
    "\"user\" -> mysqlUser,\n",
    "\"password\" -> mysqlPassword,\n",
    "\"dbtable\" -> \"max_co3_table\"\n",
    ")).mode(\"append\").save()"
   ]
  },
  {
   "cell_type": "code",
   "execution_count": 31,
   "id": "96e2f6bb-92a3-4fa4-9540-251baa53427f",
   "metadata": {
    "execution": {
     "iopub.execute_input": "2024-06-25T06:52:39.858626Z",
     "iopub.status.busy": "2024-06-25T06:52:39.858271Z",
     "iopub.status.idle": "2024-06-25T06:52:40.097283Z",
     "shell.execute_reply": "2024-06-25T06:52:40.096516Z",
     "shell.execute_reply.started": "2024-06-25T06:52:39.858580Z"
    }
   },
   "outputs": [
    {
     "data": {
      "application/vnd.jupyter.widget-view+json": {
       "model_id": "a158791e7aba419ab1c039f91985abb7",
       "version_major": 2,
       "version_minor": 0
      },
      "text/plain": [
       "VBox()"
      ]
     },
     "metadata": {},
     "output_type": "display_data"
    },
    {
     "data": {
      "application/vnd.jupyter.widget-view+json": {
       "model_id": "",
       "version_major": 2,
       "version_minor": 0
      },
      "text/plain": [
       "FloatProgress(value=0.0, bar_style='info', description='Progress:', layout=Layout(height='25px', width='50%'),…"
      ]
     },
     "metadata": {},
     "output_type": "display_data"
    },
    {
     "name": "stdout",
     "output_type": "stream",
     "text": [
      "sum_of_Ozone: org.apache.spark.sql.DataFrame = [Ozone (ug/m3): string, sum_of_Ozone: double]\n"
     ]
    }
   ],
   "source": [
    "val sum_of_Ozone = df_parquet.groupBy(\"Ozone (ug/m3)\").agg(sum(\"Ozone (ug/m3)\").alias(\"sum_of_Ozone\"))"
   ]
  },
  {
   "cell_type": "code",
   "execution_count": 32,
   "id": "75c5b0d1-8197-45a8-88f6-c496045311f4",
   "metadata": {
    "collapsed": true,
    "execution": {
     "iopub.execute_input": "2024-06-25T06:52:53.543686Z",
     "iopub.status.busy": "2024-06-25T06:52:53.543443Z",
     "iopub.status.idle": "2024-06-25T06:52:56.806133Z",
     "shell.execute_reply": "2024-06-25T06:52:56.805328Z",
     "shell.execute_reply.started": "2024-06-25T06:52:53.543660Z"
    },
    "jupyter": {
     "outputs_hidden": true
    },
    "tags": []
   },
   "outputs": [
    {
     "data": {
      "application/vnd.jupyter.widget-view+json": {
       "model_id": "33385f7e160344d5a4e7a6e6860b3fd7",
       "version_major": 2,
       "version_minor": 0
      },
      "text/plain": [
       "VBox()"
      ]
     },
     "metadata": {},
     "output_type": "display_data"
    },
    {
     "data": {
      "application/vnd.jupyter.widget-view+json": {
       "model_id": "",
       "version_major": 2,
       "version_minor": 0
      },
      "text/plain": [
       "FloatProgress(value=0.0, bar_style='info', description='Progress:', layout=Layout(height='25px', width='50%'),…"
      ]
     },
     "metadata": {},
     "output_type": "display_data"
    },
    {
     "name": "stdout",
     "output_type": "stream",
     "text": [
      "+-------------+------------------+\n",
      "|Ozone (ug/m3)|      sum_of_Ozone|\n",
      "+-------------+------------------+\n",
      "|         NULL|              NULL|\n",
      "|        19.06|24320.560000000074|\n",
      "|        65.66|15298.779999999988|\n",
      "|        91.07|12112.310000000001|\n",
      "|        61.62|30008.939999999962|\n",
      "|       129.32|           9181.72|\n",
      "|        83.65|22752.799999999985|\n",
      "|        34.63| 21055.04000000005|\n",
      "|        26.63|23567.550000000076|\n",
      "|        42.87|19505.849999999962|\n",
      "|        13.87|24688.599999999846|\n",
      "|        17.42|23395.060000000074|\n",
      "|        73.43|17109.190000000002|\n",
      "|         73.7|31101.399999999983|\n",
      "|        119.8|13896.800000000003|\n",
      "|        118.5|           18723.0|\n",
      "|       385.42|            385.42|\n",
      "|       192.66|           1541.28|\n",
      "|       184.59|           1107.54|\n",
      "|       146.81| 3376.629999999999|\n",
      "+-------------+------------------+\n",
      "only showing top 20 rows\n",
      "\n"
     ]
    }
   ],
   "source": [
    "sum_of_Ozone.show()"
   ]
  },
  {
   "cell_type": "code",
   "execution_count": 33,
   "id": "dcc4cd95-d9fb-4c59-a7fd-a185c7c70be4",
   "metadata": {
    "collapsed": true,
    "execution": {
     "iopub.execute_input": "2024-06-25T06:53:17.228461Z",
     "iopub.status.busy": "2024-06-25T06:53:17.228237Z",
     "iopub.status.idle": "2024-06-25T06:54:38.690725Z",
     "shell.execute_reply": "2024-06-25T06:54:38.690066Z",
     "shell.execute_reply.started": "2024-06-25T06:53:17.228436Z"
    },
    "jupyter": {
     "outputs_hidden": true
    },
    "tags": []
   },
   "outputs": [
    {
     "data": {
      "application/vnd.jupyter.widget-view+json": {
       "model_id": "03d7edba757b4c12a329a8713246f532",
       "version_major": 2,
       "version_minor": 0
      },
      "text/plain": [
       "VBox()"
      ]
     },
     "metadata": {},
     "output_type": "display_data"
    },
    {
     "data": {
      "application/vnd.jupyter.widget-view+json": {
       "model_id": "",
       "version_major": 2,
       "version_minor": 0
      },
      "text/plain": [
       "FloatProgress(value=0.0, bar_style='info', description='Progress:', layout=Layout(height='25px', width='50%'),…"
      ]
     },
     "metadata": {},
     "output_type": "display_data"
    }
   ],
   "source": [
    "sum_of_Ozone.write.format(\"jdbc\").options(\n",
    "Map(\n",
    "\"url\" -> myqlUrl,\n",
    "\"user\" -> mysqlUser,\n",
    "\"password\" -> mysqlPassword,\n",
    "\"dbtable\" -> \"sum_of_Ozone_table\"\n",
    ")).mode(\"append\").save()"
   ]
  },
  {
   "cell_type": "code",
   "execution_count": 34,
   "id": "d78ab726-e890-4f11-a86f-3c328386a7b6",
   "metadata": {
    "execution": {
     "iopub.execute_input": "2024-06-25T06:59:34.913485Z",
     "iopub.status.busy": "2024-06-25T06:59:34.913256Z",
     "iopub.status.idle": "2024-06-25T06:59:35.157686Z",
     "shell.execute_reply": "2024-06-25T06:59:35.156758Z",
     "shell.execute_reply.started": "2024-06-25T06:59:34.913457Z"
    },
    "tags": []
   },
   "outputs": [
    {
     "data": {
      "application/vnd.jupyter.widget-view+json": {
       "model_id": "cc311848c1e14daebd30e8726c1d186c",
       "version_major": 2,
       "version_minor": 0
      },
      "text/plain": [
       "VBox()"
      ]
     },
     "metadata": {},
     "output_type": "display_data"
    },
    {
     "data": {
      "application/vnd.jupyter.widget-view+json": {
       "model_id": "",
       "version_major": 2,
       "version_minor": 0
      },
      "text/plain": [
       "FloatProgress(value=0.0, bar_style='info', description='Progress:', layout=Layout(height='25px', width='50%'),…"
      ]
     },
     "metadata": {},
     "output_type": "display_data"
    },
    {
     "name": "stdout",
     "output_type": "stream",
     "text": [
      "max_Toluene: org.apache.spark.sql.Dataset[org.apache.spark.sql.Row] = [From Date: string, To Date: string ... 23 more fields]\n"
     ]
    }
   ],
   "source": [
    "val max_Toluene = df_parquet.filter(col(\"Toluene (ug/m3)\") > 15)"
   ]
  },
  {
   "cell_type": "code",
   "execution_count": null,
   "id": "ab4aba44-deb5-40fa-b9b9-f5c1d60d42d8",
   "metadata": {
    "collapsed": true,
    "execution": {
     "iopub.execute_input": "2024-06-25T06:59:51.258250Z",
     "iopub.status.busy": "2024-06-25T06:59:51.258020Z",
     "iopub.status.idle": "2024-06-25T07:20:15.392328Z"
    },
    "jupyter": {
     "outputs_hidden": true
    },
    "tags": []
   },
   "outputs": [
    {
     "data": {
      "application/vnd.jupyter.widget-view+json": {
       "model_id": "30c9ef3837dd4d2fb32b5b03e8a98781",
       "version_major": 2,
       "version_minor": 0
      },
      "text/plain": [
       "VBox()"
      ]
     },
     "metadata": {},
     "output_type": "display_data"
    },
    {
     "data": {
      "application/vnd.jupyter.widget-view+json": {
       "model_id": "",
       "version_major": 2,
       "version_minor": 0
      },
      "text/plain": [
       "FloatProgress(value=0.0, bar_style='info', description='Progress:', layout=Layout(height='25px', width='50%'),…"
      ]
     },
     "metadata": {},
     "output_type": "display_data"
    }
   ],
   "source": [
    "max_Toluene.write.format(\"jdbc\").options(\n",
    "Map(\n",
    "\"url\" -> myqlUrl,\n",
    "\"user\" -> mysqlUser,\n",
    "\"password\" -> mysqlPassword,\n",
    "\"dbtable\" -> \"max_Toluene_table\"\n",
    ")).mode(\"append\").save()"
   ]
  },
  {
   "cell_type": "code",
   "execution_count": 36,
   "id": "a6ff980f-9eb1-4282-b637-6c74061c566a",
   "metadata": {
    "collapsed": true,
    "execution": {
     "iopub.execute_input": "2024-06-25T07:21:30.816885Z",
     "iopub.status.busy": "2024-06-25T07:21:30.816658Z",
     "iopub.status.idle": "2024-06-25T07:21:40.088633Z",
     "shell.execute_reply": "2024-06-25T07:21:40.087872Z",
     "shell.execute_reply.started": "2024-06-25T07:21:30.816860Z"
    },
    "jupyter": {
     "outputs_hidden": true
    },
    "tags": []
   },
   "outputs": [
    {
     "data": {
      "application/vnd.jupyter.widget-view+json": {
       "model_id": "07d4538e4749420b8588d4a9cb478977",
       "version_major": 2,
       "version_minor": 0
      },
      "text/plain": [
       "VBox()"
      ]
     },
     "metadata": {},
     "output_type": "display_data"
    },
    {
     "data": {
      "application/vnd.jupyter.widget-view+json": {
       "model_id": "",
       "version_major": 2,
       "version_minor": 0
      },
      "text/plain": [
       "FloatProgress(value=0.0, bar_style='info', description='Progress:', layout=Layout(height='25px', width='50%'),…"
      ]
     },
     "metadata": {},
     "output_type": "display_data"
    },
    {
     "name": "stdout",
     "output_type": "stream",
     "text": [
      "+-------------------+-------------------+-------------+------------+----------+-----------+---------+-----------+-----------+----------+-------------+---------------+---------------+-------------------+-----------------+----------------+---------------+------+--------+--------+----------+---------+---------+--------------+-------------+\n",
      "|          From Date|            To Date|PM2.5 (ug/m3)|PM10 (ug/m3)|NO (ug/m3)|NO2 (ug/m3)|NOx (ppb)|NH3 (ug/m3)|SO2 (ug/m3)|CO (mg/m3)|Ozone (ug/m3)|Benzene (ug/m3)|Toluene (ug/m3)|Eth-Benzene (ug/m3)|MP-Xylene (ug/m3)|O Xylene (ug/m3)|Temp (degree C)|RH (%)|WS (m/s)|WD (deg)|SR (W/mt2)|BP (mmHg)|VWS (m/s)|Xylene (ug/m3)|AT (degree C)|\n",
      "+-------------------+-------------------+-------------+------------+----------+-----------+---------+-----------+-----------+----------+-------------+---------------+---------------+-------------------+-----------------+----------------+---------------+------+--------+--------+----------+---------+---------+--------------+-------------+\n",
      "|2010-11-13 08:00:00|2010-11-13 09:00:00|         NULL|        NULL|      NULL|     228.13|     NULL|       NULL|       6.38|      0.01|         73.8|           7.22|         115.57|               7.22|             0.72|           14.45|           21.0|  59.0|    0.83|  166.76|    493.27|    993.8|     0.83|          NULL|         NULL|\n",
      "|2010-11-13 17:00:00|2010-11-13 18:00:00|         NULL|        NULL|      4.17|     165.24|    28.56|       NULL|        6.5|      NULL|        95.61|           1.42|          22.65|               1.42|             0.14|            2.83|          23.82| 61.82|    0.22|  105.62|     324.4|   991.65|     0.22|          NULL|         NULL|\n",
      "|2010-11-16 21:00:00|2010-11-16 22:00:00|         NULL|        NULL|      6.07|     119.33|    18.85|       NULL|       6.57|      NULL|         69.1|           1.13|          17.96|               1.13|             0.11|            2.25|          20.42| 58.42|    0.22|  271.96|    322.97|   995.23|     0.22|          NULL|         NULL|\n",
      "|2010-12-06 09:00:00|2010-12-06 10:00:00|         NULL|        NULL|     13.28|      99.81|     58.6|       NULL|       2.16|      NULL|        31.81|            1.0|          16.02|                1.0|             NULL|            2.01|          16.49| 54.49|    0.23|  186.68|    590.84|   998.71|     0.23|          NULL|         NULL|\n",
      "|2010-12-14 09:00:00|2010-12-14 10:00:00|         NULL|        NULL|    249.85|     153.72|   151.18|       NULL|       6.38|       3.9|        43.58|           1.13|          18.16|               1.13|             0.11|            2.27|          11.51| 49.51|    0.23|  245.91|    539.93|   998.03|     0.23|          NULL|         NULL|\n",
      "|2010-12-27 09:00:00|2010-12-27 10:00:00|         NULL|        NULL|     16.92|      120.1|    71.22|       NULL|       7.49|      NULL|         1.56|           1.21|          19.26|               1.21|             NULL|            2.41|          14.03| 52.03|    0.23|  138.61|    466.64|   999.63|     0.23|          NULL|         NULL|\n",
      "|2010-12-27 10:00:00|2010-12-27 11:00:00|         NULL|        NULL|      4.95|     104.32|    54.58|       NULL|       8.43|      NULL|         4.73|           1.04|          16.64|               1.04|             0.11|            2.08|          16.55| 54.55|    0.23|  199.47|    522.64|    999.6|     0.23|          NULL|         NULL|\n",
      "|2010-12-30 09:00:00|2010-12-30 10:00:00|         NULL|        NULL|     16.64|     102.36|    62.35|       NULL|       7.75|      NULL|          0.5|           1.03|           16.4|               1.03|              0.1|            2.05|          15.77| 53.77|    0.23|  110.97|    481.61|   997.43|     0.23|          NULL|         NULL|\n",
      "|2011-02-10 18:00:00|2011-02-10 19:00:00|         NULL|        NULL|      1.58|      48.34|    24.76|       NULL|       7.36|       0.5|        32.43|           3.96|          16.52|               3.37|             NULL|            1.75|          18.71| 42.97|    1.29|  208.27|    323.13|   994.43|     1.29|          NULL|         NULL|\n",
      "|2011-02-10 19:00:00|2011-02-10 20:00:00|         NULL|        NULL|      3.07|      56.84|    30.01|       NULL|       8.41|      0.55|        26.24|           7.48|          16.19|                4.1|             9.86|            2.88|          17.76| 46.32|    1.32|  210.52|    322.94|   995.14|     1.32|          NULL|         NULL|\n",
      "|2011-02-12 19:00:00|2011-02-12 20:00:00|         NULL|        NULL|      4.74|      50.94|    28.38|       NULL|       8.14|      0.54|         28.7|           5.16|          16.18|               1.51|             3.22|             1.3|          20.71| 45.31|    1.57|  201.33|    323.05|   991.92|     1.57|          NULL|         NULL|\n",
      "|2011-02-12 20:00:00|2011-02-12 21:00:00|         NULL|        NULL|      1.74|      54.89|    28.08|       NULL|       7.98|      0.44|        30.12|           4.31|          16.62|               1.37|             3.28|            1.39|          19.91| 48.01|    1.78|  199.31|    323.01|   992.31|     1.78|          NULL|         NULL|\n",
      "|2011-02-13 20:00:00|2011-02-13 21:00:00|         NULL|        NULL|     14.26|      92.75|    55.89|       NULL|      10.59|      0.27|         6.12|           9.71|          25.52|               3.31|             8.73|            3.31|          20.34| 55.12|    0.22|  200.72|    322.99|   991.09|     0.22|          NULL|         NULL|\n",
      "|2011-02-13 21:00:00|2011-02-13 22:00:00|         NULL|        NULL|      52.9|      79.44|    78.23|       NULL|       9.16|      0.27|         3.61|           7.24|          21.89|               2.54|             7.76|            2.81|          19.45| 61.08|    0.23|  161.37|    323.02|   991.21|     0.23|          NULL|         NULL|\n",
      "|2011-02-13 22:00:00|2011-02-13 23:00:00|         NULL|        NULL|     92.63|      76.93|   106.65|       NULL|       9.75|      0.27|         1.64|           8.52|          25.73|               6.58|             5.42|            2.08|          18.47| 66.98|    0.23|  201.61|    323.02|   991.24|     0.23|          NULL|         NULL|\n",
      "|2011-02-13 23:00:00|2011-02-14 00:00:00|         NULL|        NULL|    113.83|      72.21|   120.17|       NULL|       9.23|      0.27|         1.76|           7.52|          20.07|               5.69|             3.35|            2.61|           17.9|  70.4|    0.23|  166.18|    322.95|   991.03|     0.23|          NULL|         NULL|\n",
      "|2011-02-14 00:00:00|2011-02-14 01:00:00|         NULL|        NULL|     73.42|       80.7|    94.16|       NULL|       8.72|      0.27|         1.08|           6.07|          18.94|               2.19|             6.21|            2.65|          17.69| 70.06|    0.22|  263.17|    322.92|   990.91|     0.22|          NULL|         NULL|\n",
      "|2011-02-14 01:00:00|2011-02-14 02:00:00|         NULL|        NULL|     48.25|      76.72|    73.43|       NULL|       8.76|      0.27|         0.32|           6.24|          17.05|               1.99|             5.54|            2.33|          16.93| 74.17|    0.23|  274.33|    322.97|    990.7|     0.23|          NULL|         NULL|\n",
      "|2011-02-14 19:00:00|2011-02-14 20:00:00|         NULL|        NULL|      9.44|      73.07|    42.69|       NULL|       9.18|      0.27|         5.92|           4.92|          16.91|               5.42|             2.99|            2.37|          21.85| 62.63|    0.23|  324.62|    323.06|   989.96|     0.23|          NULL|         NULL|\n",
      "|2011-02-14 22:00:00|2011-02-14 23:00:00|         NULL|        NULL|      3.29|      46.08|    24.93|       NULL|        7.9|      0.27|        14.93|            2.7|          19.28|               2.85|             3.42|            1.51|          20.14| 66.67|    0.23|  249.12|     323.1|   991.51|     0.23|          NULL|         NULL|\n",
      "+-------------------+-------------------+-------------+------------+----------+-----------+---------+-----------+-----------+----------+-------------+---------------+---------------+-------------------+-----------------+----------------+---------------+------+--------+--------+----------+---------+---------+--------------+-------------+\n",
      "only showing top 20 rows\n",
      "\n"
     ]
    }
   ],
   "source": [
    "max_Toluene.show()"
   ]
  },
  {
   "cell_type": "code",
   "execution_count": 39,
   "id": "133b56a7-9a1b-417b-ac50-05bac2a84738",
   "metadata": {
    "execution": {
     "iopub.execute_input": "2024-06-25T07:25:16.974460Z",
     "iopub.status.busy": "2024-06-25T07:25:16.974199Z",
     "iopub.status.idle": "2024-06-25T07:25:17.218204Z",
     "shell.execute_reply": "2024-06-25T07:25:17.217486Z",
     "shell.execute_reply.started": "2024-06-25T07:25:16.974425Z"
    },
    "tags": []
   },
   "outputs": [
    {
     "data": {
      "application/vnd.jupyter.widget-view+json": {
       "model_id": "d5314fa6d7bb42268e02791fd7b71f4d",
       "version_major": 2,
       "version_minor": 0
      },
      "text/plain": [
       "VBox()"
      ]
     },
     "metadata": {},
     "output_type": "display_data"
    },
    {
     "data": {
      "application/vnd.jupyter.widget-view+json": {
       "model_id": "",
       "version_major": 2,
       "version_minor": 0
      },
      "text/plain": [
       "FloatProgress(value=0.0, bar_style='info', description='Progress:', layout=Layout(height='25px', width='50%'),…"
      ]
     },
     "metadata": {},
     "output_type": "display_data"
    },
    {
     "name": "stdout",
     "output_type": "stream",
     "text": [
      "range_benzene: org.apache.spark.sql.Dataset[org.apache.spark.sql.Row] = [From Date: string, To Date: string ... 23 more fields]\n"
     ]
    }
   ],
   "source": [
    "val range_benzene = df_parquet.filter(col(\"Benzene (ug/m3)\") > 10 && col(\"Benzene (ug/m3)\") < 25).alias(\"range_benzene\")"
   ]
  },
  {
   "cell_type": "code",
   "execution_count": 40,
   "id": "f0bf9067-1123-4741-9241-925f823acfd1",
   "metadata": {
    "collapsed": true,
    "execution": {
     "iopub.execute_input": "2024-06-25T07:25:45.108399Z",
     "iopub.status.busy": "2024-06-25T07:25:45.108177Z",
     "iopub.status.idle": "2024-06-25T07:29:30.872582Z",
     "shell.execute_reply": "2024-06-25T07:29:30.871853Z",
     "shell.execute_reply.started": "2024-06-25T07:25:45.108374Z"
    },
    "jupyter": {
     "outputs_hidden": true
    },
    "tags": []
   },
   "outputs": [
    {
     "data": {
      "application/vnd.jupyter.widget-view+json": {
       "model_id": "5332d3782fd84efc80c29948892f7d54",
       "version_major": 2,
       "version_minor": 0
      },
      "text/plain": [
       "VBox()"
      ]
     },
     "metadata": {},
     "output_type": "display_data"
    },
    {
     "data": {
      "application/vnd.jupyter.widget-view+json": {
       "model_id": "",
       "version_major": 2,
       "version_minor": 0
      },
      "text/plain": [
       "FloatProgress(value=0.0, bar_style='info', description='Progress:', layout=Layout(height='25px', width='50%'),…"
      ]
     },
     "metadata": {},
     "output_type": "display_data"
    }
   ],
   "source": [
    "range_benzene.write.format(\"jdbc\").options(\n",
    "Map(\n",
    "\"url\" -> myqlUrl,\n",
    "\"user\" -> mysqlUser,\n",
    "\"password\" -> mysqlPassword,\n",
    "\"dbtable\" -> \"range_benzene_table\"\n",
    ")).mode(\"append\").save()"
   ]
  },
  {
   "cell_type": "code",
   "execution_count": 41,
   "id": "b4cc1068-b33f-4f97-a9de-36e1a8f28bf3",
   "metadata": {
    "collapsed": true,
    "execution": {
     "iopub.execute_input": "2024-06-25T07:30:07.565364Z",
     "iopub.status.busy": "2024-06-25T07:30:07.565140Z",
     "iopub.status.idle": "2024-06-25T07:31:53.094455Z",
     "shell.execute_reply": "2024-06-25T07:31:53.093665Z",
     "shell.execute_reply.started": "2024-06-25T07:30:07.565339Z"
    },
    "jupyter": {
     "outputs_hidden": true
    },
    "tags": []
   },
   "outputs": [
    {
     "data": {
      "application/vnd.jupyter.widget-view+json": {
       "model_id": "1a84c837ee704cc0b76049b1ccfcf618",
       "version_major": 2,
       "version_minor": 0
      },
      "text/plain": [
       "VBox()"
      ]
     },
     "metadata": {},
     "output_type": "display_data"
    },
    {
     "data": {
      "application/vnd.jupyter.widget-view+json": {
       "model_id": "",
       "version_major": 2,
       "version_minor": 0
      },
      "text/plain": [
       "FloatProgress(value=0.0, bar_style='info', description='Progress:', layout=Layout(height='25px', width='50%'),…"
      ]
     },
     "metadata": {},
     "output_type": "display_data"
    }
   ],
   "source": [
    "temp_df.write.format(\"jdbc\").options(\n",
    "Map(\n",
    "\"url\" -> myqlUrl,\n",
    "\"user\" -> mysqlUser,\n",
    "\"password\" -> mysqlPassword,\n",
    "\"dbtable\" -> \"temp_df_table\"\n",
    ")).mode(\"append\").save()"
   ]
  },
  {
   "cell_type": "code",
   "execution_count": 42,
   "id": "4ef0436c-44bb-4cdf-85bc-4edf4c1bd43f",
   "metadata": {
    "execution": {
     "iopub.execute_input": "2024-06-25T07:32:48.483693Z",
     "iopub.status.busy": "2024-06-25T07:32:48.483460Z",
     "iopub.status.idle": "2024-06-25T07:32:48.728042Z",
     "shell.execute_reply": "2024-06-25T07:32:48.727332Z",
     "shell.execute_reply.started": "2024-06-25T07:32:48.483669Z"
    }
   },
   "outputs": [
    {
     "data": {
      "application/vnd.jupyter.widget-view+json": {
       "model_id": "3f91dde6944f492a95373880478620f0",
       "version_major": 2,
       "version_minor": 0
      },
      "text/plain": [
       "VBox()"
      ]
     },
     "metadata": {},
     "output_type": "display_data"
    },
    {
     "data": {
      "application/vnd.jupyter.widget-view+json": {
       "model_id": "",
       "version_major": 2,
       "version_minor": 0
      },
      "text/plain": [
       "FloatProgress(value=0.0, bar_style='info', description='Progress:', layout=Layout(height='25px', width='50%'),…"
      ]
     },
     "metadata": {},
     "output_type": "display_data"
    },
    {
     "name": "stdout",
     "output_type": "stream",
     "text": [
      "temp_df_count: org.apache.spark.sql.DataFrame = [Temp (degree C): string, count(1): bigint]\n"
     ]
    }
   ],
   "source": [
    "val temp_df_count = df_parquet.groupBy(\"Temp (degree C)\").agg(count(\"*\"))"
   ]
  },
  {
   "cell_type": "code",
   "execution_count": 43,
   "id": "46c0fbac-ff32-4282-b547-03c425a62e94",
   "metadata": {
    "collapsed": true,
    "execution": {
     "iopub.execute_input": "2024-06-25T07:32:57.928304Z",
     "iopub.status.busy": "2024-06-25T07:32:57.928089Z",
     "iopub.status.idle": "2024-06-25T07:34:45.462871Z",
     "shell.execute_reply": "2024-06-25T07:34:45.461787Z",
     "shell.execute_reply.started": "2024-06-25T07:32:57.928280Z"
    },
    "jupyter": {
     "outputs_hidden": true
    },
    "tags": []
   },
   "outputs": [
    {
     "data": {
      "application/vnd.jupyter.widget-view+json": {
       "model_id": "5af4f4f5bc6e49c1b76541fb1e28f880",
       "version_major": 2,
       "version_minor": 0
      },
      "text/plain": [
       "VBox()"
      ]
     },
     "metadata": {},
     "output_type": "display_data"
    },
    {
     "data": {
      "application/vnd.jupyter.widget-view+json": {
       "model_id": "",
       "version_major": 2,
       "version_minor": 0
      },
      "text/plain": [
       "FloatProgress(value=0.0, bar_style='info', description='Progress:', layout=Layout(height='25px', width='50%'),…"
      ]
     },
     "metadata": {},
     "output_type": "display_data"
    }
   ],
   "source": [
    "temp_df_count.write.format(\"jdbc\").options(\n",
    "Map(\n",
    "\"url\" -> myqlUrl,\n",
    "\"user\" -> mysqlUser,\n",
    "\"password\" -> mysqlPassword,\n",
    "\"dbtable\" -> \"temp_df_count_table\"\n",
    ")).mode(\"append\").save()"
   ]
  },
  {
   "cell_type": "code",
   "execution_count": 44,
   "id": "ae02067e-757a-4706-9139-3032d7dae208",
   "metadata": {
    "execution": {
     "iopub.execute_input": "2024-06-25T07:34:51.637813Z",
     "iopub.status.busy": "2024-06-25T07:34:51.637583Z",
     "iopub.status.idle": "2024-06-25T07:34:51.883927Z",
     "shell.execute_reply": "2024-06-25T07:34:51.883297Z",
     "shell.execute_reply.started": "2024-06-25T07:34:51.637786Z"
    }
   },
   "outputs": [
    {
     "data": {
      "application/vnd.jupyter.widget-view+json": {
       "model_id": "643be78c9a3c4750a234a29ee5ba385e",
       "version_major": 2,
       "version_minor": 0
      },
      "text/plain": [
       "VBox()"
      ]
     },
     "metadata": {},
     "output_type": "display_data"
    },
    {
     "data": {
      "application/vnd.jupyter.widget-view+json": {
       "model_id": "",
       "version_major": 2,
       "version_minor": 0
      },
      "text/plain": [
       "FloatProgress(value=0.0, bar_style='info', description='Progress:', layout=Layout(height='25px', width='50%'),…"
      ]
     },
     "metadata": {},
     "output_type": "display_data"
    },
    {
     "name": "stdout",
     "output_type": "stream",
     "text": [
      "sum_of_SO2: org.apache.spark.sql.DataFrame = [sum_of_SO2: double]\n"
     ]
    }
   ],
   "source": [
    "val sum_of_SO2 = df_parquet.filter(col(\"SO2 (ug/m3)\") > 40).agg(sum(\"SO2 (ug/m3)\").alias(\"sum_of_SO2\"))"
   ]
  },
  {
   "cell_type": "code",
   "execution_count": 45,
   "id": "42fe9085-ddb2-4b0b-8801-f8449509a533",
   "metadata": {
    "collapsed": true,
    "execution": {
     "iopub.execute_input": "2024-06-25T07:35:18.269895Z",
     "iopub.status.busy": "2024-06-25T07:35:18.269669Z",
     "iopub.status.idle": "2024-06-25T07:35:23.536360Z",
     "shell.execute_reply": "2024-06-25T07:35:23.535602Z",
     "shell.execute_reply.started": "2024-06-25T07:35:18.269871Z"
    },
    "jupyter": {
     "outputs_hidden": true
    },
    "tags": []
   },
   "outputs": [
    {
     "data": {
      "application/vnd.jupyter.widget-view+json": {
       "model_id": "67ec80dcadc04accbcb37f33748b1343",
       "version_major": 2,
       "version_minor": 0
      },
      "text/plain": [
       "VBox()"
      ]
     },
     "metadata": {},
     "output_type": "display_data"
    },
    {
     "data": {
      "application/vnd.jupyter.widget-view+json": {
       "model_id": "",
       "version_major": 2,
       "version_minor": 0
      },
      "text/plain": [
       "FloatProgress(value=0.0, bar_style='info', description='Progress:', layout=Layout(height='25px', width='50%'),…"
      ]
     },
     "metadata": {},
     "output_type": "display_data"
    }
   ],
   "source": [
    "sum_of_SO2.write.format(\"jdbc\").options(\n",
    "Map(\n",
    "\"url\" -> myqlUrl,\n",
    "\"user\" -> mysqlUser,\n",
    "\"password\" -> mysqlPassword,\n",
    "\"dbtable\" -> \"sum_of_SO2_table\"\n",
    ")).mode(\"append\").save()"
   ]
  },
  {
   "cell_type": "code",
   "execution_count": 46,
   "id": "a01538f1-0f61-4c4f-894c-02f170d7faf2",
   "metadata": {
    "collapsed": true,
    "execution": {
     "iopub.execute_input": "2024-06-25T07:36:13.704257Z",
     "iopub.status.busy": "2024-06-25T07:36:13.704036Z",
     "iopub.status.idle": "2024-06-25T07:36:14.961649Z",
     "shell.execute_reply": "2024-06-25T07:36:14.960885Z",
     "shell.execute_reply.started": "2024-06-25T07:36:13.704233Z"
    },
    "jupyter": {
     "outputs_hidden": true
    },
    "tags": []
   },
   "outputs": [
    {
     "data": {
      "application/vnd.jupyter.widget-view+json": {
       "model_id": "e97ad98c84794ae1b31fa44edf3dca37",
       "version_major": 2,
       "version_minor": 0
      },
      "text/plain": [
       "VBox()"
      ]
     },
     "metadata": {},
     "output_type": "display_data"
    },
    {
     "data": {
      "application/vnd.jupyter.widget-view+json": {
       "model_id": "",
       "version_major": 2,
       "version_minor": 0
      },
      "text/plain": [
       "FloatProgress(value=0.0, bar_style='info', description='Progress:', layout=Layout(height='25px', width='50%'),…"
      ]
     },
     "metadata": {},
     "output_type": "display_data"
    },
    {
     "name": "stdout",
     "output_type": "stream",
     "text": [
      "+--------------------+\n",
      "|          sum_of_SO2|\n",
      "+--------------------+\n",
      "|3.8235739599999905E7|\n",
      "+--------------------+\n",
      "\n"
     ]
    }
   ],
   "source": [
    "sum_of_SO2.show()"
   ]
  },
  {
   "cell_type": "code",
   "execution_count": 49,
   "id": "37e0c8a1-cd49-45da-b477-0250ac7ee805",
   "metadata": {
    "execution": {
     "iopub.execute_input": "2024-06-25T07:38:59.772265Z",
     "iopub.status.busy": "2024-06-25T07:38:59.772043Z",
     "iopub.status.idle": "2024-06-25T07:39:00.018149Z",
     "shell.execute_reply": "2024-06-25T07:39:00.017470Z",
     "shell.execute_reply.started": "2024-06-25T07:38:59.772241Z"
    },
    "tags": []
   },
   "outputs": [
    {
     "data": {
      "application/vnd.jupyter.widget-view+json": {
       "model_id": "ef0c9732edb04fa88e3cfa0077789391",
       "version_major": 2,
       "version_minor": 0
      },
      "text/plain": [
       "VBox()"
      ]
     },
     "metadata": {},
     "output_type": "display_data"
    },
    {
     "data": {
      "application/vnd.jupyter.widget-view+json": {
       "model_id": "",
       "version_major": 2,
       "version_minor": 0
      },
      "text/plain": [
       "FloatProgress(value=0.0, bar_style='info', description='Progress:', layout=Layout(height='25px', width='50%'),…"
      ]
     },
     "metadata": {},
     "output_type": "display_data"
    },
    {
     "name": "stdout",
     "output_type": "stream",
     "text": [
      "avg_of_PM2: org.apache.spark.sql.DataFrame = [avg_of_PM2: double]\n"
     ]
    }
   ],
   "source": [
    "val avg_of_PM2 = df_parquet.filter(col(\"Eth-Benzene (ug/m3)\") > 8).agg(avg(\"Eth-Benzene (ug/m3)\").alias(\"avg_of_PM2\"))"
   ]
  },
  {
   "cell_type": "code",
   "execution_count": 50,
   "id": "eec98291-4f8a-4634-9619-1942a3f719ae",
   "metadata": {
    "collapsed": true,
    "execution": {
     "iopub.execute_input": "2024-06-25T07:39:07.796540Z",
     "iopub.status.busy": "2024-06-25T07:39:07.796312Z",
     "iopub.status.idle": "2024-06-25T07:39:21.085064Z",
     "shell.execute_reply": "2024-06-25T07:39:21.084316Z",
     "shell.execute_reply.started": "2024-06-25T07:39:07.796514Z"
    },
    "jupyter": {
     "outputs_hidden": true
    },
    "tags": []
   },
   "outputs": [
    {
     "data": {
      "application/vnd.jupyter.widget-view+json": {
       "model_id": "0c4fca07e7f54591bcd404a207f5d1a9",
       "version_major": 2,
       "version_minor": 0
      },
      "text/plain": [
       "VBox()"
      ]
     },
     "metadata": {},
     "output_type": "display_data"
    },
    {
     "data": {
      "application/vnd.jupyter.widget-view+json": {
       "model_id": "",
       "version_major": 2,
       "version_minor": 0
      },
      "text/plain": [
       "FloatProgress(value=0.0, bar_style='info', description='Progress:', layout=Layout(height='25px', width='50%'),…"
      ]
     },
     "metadata": {},
     "output_type": "display_data"
    }
   ],
   "source": [
    "avg_of_PM2.write.format(\"jdbc\").options(\n",
    "Map(\n",
    "\"url\" -> myqlUrl,\n",
    "\"user\" -> mysqlUser,\n",
    "\"password\" -> mysqlPassword,\n",
    "\"dbtable\" -> \"avg_of_PM2_table\"\n",
    ")).mode(\"append\").save()"
   ]
  },
  {
   "cell_type": "code",
   "execution_count": 51,
   "id": "fd98bda2-100b-481e-a92e-d3babac3faa8",
   "metadata": {
    "collapsed": true,
    "execution": {
     "iopub.execute_input": "2024-06-25T07:39:52.854782Z",
     "iopub.status.busy": "2024-06-25T07:39:52.854562Z",
     "iopub.status.idle": "2024-06-25T07:39:54.104627Z",
     "shell.execute_reply": "2024-06-25T07:39:54.103991Z",
     "shell.execute_reply.started": "2024-06-25T07:39:52.854758Z"
    },
    "jupyter": {
     "outputs_hidden": true
    },
    "tags": []
   },
   "outputs": [
    {
     "data": {
      "application/vnd.jupyter.widget-view+json": {
       "model_id": "c0d9e40a526b4ce7b0f94ce894f99a32",
       "version_major": 2,
       "version_minor": 0
      },
      "text/plain": [
       "VBox()"
      ]
     },
     "metadata": {},
     "output_type": "display_data"
    },
    {
     "data": {
      "application/vnd.jupyter.widget-view+json": {
       "model_id": "",
       "version_major": 2,
       "version_minor": 0
      },
      "text/plain": [
       "FloatProgress(value=0.0, bar_style='info', description='Progress:', layout=Layout(height='25px', width='50%'),…"
      ]
     },
     "metadata": {},
     "output_type": "display_data"
    },
    {
     "name": "stdout",
     "output_type": "stream",
     "text": [
      "+-----------------+\n",
      "|       avg_of_PM2|\n",
      "+-----------------+\n",
      "|103.2374905942667|\n",
      "+-----------------+\n",
      "\n"
     ]
    }
   ],
   "source": [
    "avg_of_PM2.show()"
   ]
  },
  {
   "cell_type": "code",
   "execution_count": 52,
   "id": "487a115a-5f5a-4214-92e5-89631b5a3ef9",
   "metadata": {
    "execution": {
     "iopub.execute_input": "2024-06-25T07:41:37.763492Z",
     "iopub.status.busy": "2024-06-25T07:41:37.763269Z",
     "iopub.status.idle": "2024-06-25T07:41:38.007130Z",
     "shell.execute_reply": "2024-06-25T07:41:38.006372Z",
     "shell.execute_reply.started": "2024-06-25T07:41:37.763468Z"
    }
   },
   "outputs": [
    {
     "data": {
      "application/vnd.jupyter.widget-view+json": {
       "model_id": "ccd9ba82667c411ea5c038ac18bdc8f0",
       "version_major": 2,
       "version_minor": 0
      },
      "text/plain": [
       "VBox()"
      ]
     },
     "metadata": {},
     "output_type": "display_data"
    },
    {
     "data": {
      "application/vnd.jupyter.widget-view+json": {
       "model_id": "",
       "version_major": 2,
       "version_minor": 0
      },
      "text/plain": [
       "FloatProgress(value=0.0, bar_style='info', description='Progress:', layout=Layout(height='25px', width='50%'),…"
      ]
     },
     "metadata": {},
     "output_type": "display_data"
    },
    {
     "name": "stdout",
     "output_type": "stream",
     "text": [
      "range_temps_RH_WS: org.apache.spark.sql.Dataset[org.apache.spark.sql.Row] = [From Date: string, To Date: string ... 23 more fields]\n"
     ]
    }
   ],
   "source": [
    "val range_temps_RH_WS = df_parquet.filter(col(\"RH (%)\") > 28 && col(\"WS (m/s)\") < 1).alias(\"range_temps_RH_WS\")"
   ]
  },
  {
   "cell_type": "code",
   "execution_count": 53,
   "id": "a4cbe24e-03b4-4b21-8979-97bccbbadde9",
   "metadata": {
    "execution": {
     "iopub.execute_input": "2024-06-25T07:41:45.486218Z",
     "iopub.status.busy": "2024-06-25T07:41:45.485987Z",
     "iopub.status.idle": "2024-06-25T07:58:41.098234Z",
     "shell.execute_reply": "2024-06-25T07:58:41.097587Z",
     "shell.execute_reply.started": "2024-06-25T07:41:45.486192Z"
    },
    "tags": []
   },
   "outputs": [
    {
     "data": {
      "application/vnd.jupyter.widget-view+json": {
       "model_id": "e6f531ad72fd4b1eae797740bbd6599d",
       "version_major": 2,
       "version_minor": 0
      },
      "text/plain": [
       "VBox()"
      ]
     },
     "metadata": {},
     "output_type": "display_data"
    },
    {
     "data": {
      "application/vnd.jupyter.widget-view+json": {
       "model_id": "",
       "version_major": 2,
       "version_minor": 0
      },
      "text/plain": [
       "FloatProgress(value=0.0, bar_style='info', description='Progress:', layout=Layout(height='25px', width='50%'),…"
      ]
     },
     "metadata": {},
     "output_type": "display_data"
    }
   ],
   "source": [
    "range_temps_RH_WS.write.format(\"jdbc\").options(\n",
    "Map(\n",
    "\"url\" -> myqlUrl,\n",
    "\"user\" -> mysqlUser,\n",
    "\"password\" -> mysqlPassword,\n",
    "\"dbtable\" -> \"range_temps_RH_WS_table\"\n",
    ")).mode(\"append\").save()"
   ]
  },
  {
   "cell_type": "code",
   "execution_count": null,
   "id": "706db419-1077-4839-beec-a063e7fd8d1b",
   "metadata": {},
   "outputs": [],
   "source": []
  }
 ],
 "metadata": {
  "kernelspec": {
   "display_name": "Spark",
   "language": "scala",
   "name": "sparkkernel"
  },
  "language_info": {
   "codemirror_mode": "text/x-scala",
   "file_extension": ".sc",
   "mimetype": "text/x-scala",
   "name": "scala",
   "pygments_lexer": "scala"
  }
 },
 "nbformat": 4,
 "nbformat_minor": 5
}
